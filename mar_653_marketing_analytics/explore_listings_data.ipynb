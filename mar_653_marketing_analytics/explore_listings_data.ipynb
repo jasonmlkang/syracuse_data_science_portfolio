{
 "cells": [
  {
   "cell_type": "markdown",
   "metadata": {},
   "source": [
    "# Explore Listings Data\n",
    "\n",
    "The purpose of this notebook is to perform in-depth exploration of the following data sets, transform/clean them if necessary, and make relevant data available data for modeling\n",
    "* 'data/listings.csv'\n",
    "    * This file is summary data of listings\n",
    "* 'data/listings_detailed/listings.csv'\n",
    "    * This file contains detailed listings data    \n",
    "* 'data/reviews.csv'\n",
    "    * This file contains a variable called 'comments', which may represent the complete free-form review\n",
    "* 'data/prizm_attributes.xlsx'\n",
    "* Census data extraction using zip codes available in 'data/listings_detailed/listings.csv'"
   ]
  },
  {
   "cell_type": "markdown",
   "metadata": {},
   "source": [
    "## The output of this notebook is \"listings_cleaned.csv\"\n",
    "### This will also include new Census attributes and PRIZM attributes"
   ]
  },
  {
   "cell_type": "code",
   "execution_count": 70,
   "metadata": {},
   "outputs": [],
   "source": [
    "import pandas as pd \n",
    "import numpy as np\n",
    "import matplotlib.pyplot as plt\n",
    "import re"
   ]
  },
  {
   "cell_type": "markdown",
   "metadata": {},
   "source": [
    "## Hypothesis: \n",
    "### High capital intensity, high competition, high cost of doing business, and market saturation means growth will come from efficient pricing"
   ]
  },
  {
   "cell_type": "markdown",
   "metadata": {},
   "source": [
    "## Research Objective:\n",
    "* How review sentiment varies by price and location\n",
    "* How neighborhood segments and personas influence rental price\n",
    "* The drivers of market pricing of properties\n",
    "* The segmentation of properties"
   ]
  },
  {
   "cell_type": "markdown",
   "metadata": {},
   "source": [
    "To support the research objectives, this exercise will seek to identify and analyze the following data subject areas:\n",
    "* Full-text reviews\n",
    "    * Is sentiment extraction required\n",
    "* Labeled reviews / Measured reviews (How are provided reviews labeled and measured in the data)\n",
    "* Analyze the Prizm data in relation to price\n",
    "    * Clustering of listings based on neighbourhood attributes from Prizm\n",
    "    * Analysis of variance in price by Clustering\n",
    "* Assess for other variables in listings that correlate or are not independent from price\n",
    "* Assess variables and identify those that segment the overall listings data well"
   ]
  },
  {
   "cell_type": "markdown",
   "metadata": {},
   "source": [
    "## Load Full Listings Data\n",
    "* 'data/listings_detailed/listings.csv'\n",
    "* This data set has over 100 columns and 50000 observations"
   ]
  },
  {
   "cell_type": "code",
   "execution_count": 71,
   "metadata": {},
   "outputs": [],
   "source": [
    "fname = 'data/listings_detailed/listings.csv'\n",
    "listings = pd.read_csv(fname)"
   ]
  },
  {
   "cell_type": "code",
   "execution_count": 72,
   "metadata": {},
   "outputs": [
    {
     "data": {
      "text/plain": [
       "Index(['id', 'listing_url', 'scrape_id', 'last_scraped', 'name', 'summary',\n",
       "       'space', 'description', 'experiences_offered', 'neighborhood_overview',\n",
       "       ...\n",
       "       'instant_bookable', 'is_business_travel_ready', 'cancellation_policy',\n",
       "       'require_guest_profile_picture', 'require_guest_phone_verification',\n",
       "       'calculated_host_listings_count',\n",
       "       'calculated_host_listings_count_entire_homes',\n",
       "       'calculated_host_listings_count_private_rooms',\n",
       "       'calculated_host_listings_count_shared_rooms', 'reviews_per_month'],\n",
       "      dtype='object', length=106)"
      ]
     },
     "execution_count": 72,
     "metadata": {},
     "output_type": "execute_result"
    }
   ],
   "source": [
    "listings.columns"
   ]
  },
  {
   "cell_type": "markdown",
   "metadata": {},
   "source": [
    "## When was the Listings Data Prepared?"
   ]
  },
  {
   "cell_type": "code",
   "execution_count": 73,
   "metadata": {},
   "outputs": [
    {
     "data": {
      "text/plain": [
       "2019-12-06    23960\n",
       "2019-12-05    21722\n",
       "2019-12-04     4378\n",
       "2019-12-07      539\n",
       "Name: last_scraped, dtype: int64"
      ]
     },
     "execution_count": 73,
     "metadata": {},
     "output_type": "execute_result"
    }
   ],
   "source": [
    "listings['last_scraped'].value_counts()"
   ]
  },
  {
   "cell_type": "markdown",
   "metadata": {},
   "source": [
    "### Listings data was extracted approximately at the beginning of December 2019"
   ]
  },
  {
   "cell_type": "markdown",
   "metadata": {},
   "source": [
    "### Each observation in this data set represents a unique listing on AirBnb"
   ]
  },
  {
   "cell_type": "code",
   "execution_count": 74,
   "metadata": {},
   "outputs": [
    {
     "data": {
      "text/plain": [
       "True"
      ]
     },
     "execution_count": 74,
     "metadata": {},
     "output_type": "execute_result"
    }
   ],
   "source": [
    "len(set(listings.id)) == listings.shape[0]"
   ]
  },
  {
   "cell_type": "markdown",
   "metadata": {},
   "source": [
    "## Columns containing price"
   ]
  },
  {
   "cell_type": "code",
   "execution_count": 75,
   "metadata": {},
   "outputs": [],
   "source": [
    "price_cols = [col for col in listings.columns if re.search('price', col)]"
   ]
  },
  {
   "cell_type": "code",
   "execution_count": 76,
   "metadata": {},
   "outputs": [
    {
     "data": {
      "text/plain": [
       "price            object\n",
       "weekly_price     object\n",
       "monthly_price    object\n",
       "dtype: object"
      ]
     },
     "execution_count": 76,
     "metadata": {},
     "output_type": "execute_result"
    }
   ],
   "source": [
    "# data type of price\n",
    "listings[price_cols].dtypes"
   ]
  },
  {
   "cell_type": "code",
   "execution_count": 77,
   "metadata": {},
   "outputs": [
    {
     "data": {
      "text/html": [
       "<div>\n",
       "<style scoped>\n",
       "    .dataframe tbody tr th:only-of-type {\n",
       "        vertical-align: middle;\n",
       "    }\n",
       "\n",
       "    .dataframe tbody tr th {\n",
       "        vertical-align: top;\n",
       "    }\n",
       "\n",
       "    .dataframe thead th {\n",
       "        text-align: right;\n",
       "    }\n",
       "</style>\n",
       "<table border=\"1\" class=\"dataframe\">\n",
       "  <thead>\n",
       "    <tr style=\"text-align: right;\">\n",
       "      <th></th>\n",
       "      <th>price</th>\n",
       "      <th>weekly_price</th>\n",
       "      <th>monthly_price</th>\n",
       "    </tr>\n",
       "  </thead>\n",
       "  <tbody>\n",
       "    <tr>\n",
       "      <th>count</th>\n",
       "      <td>50599</td>\n",
       "      <td>5654</td>\n",
       "      <td>4916</td>\n",
       "    </tr>\n",
       "    <tr>\n",
       "      <th>unique</th>\n",
       "      <td>647</td>\n",
       "      <td>589</td>\n",
       "      <td>650</td>\n",
       "    </tr>\n",
       "    <tr>\n",
       "      <th>top</th>\n",
       "      <td>$100.00</td>\n",
       "      <td>$500.00</td>\n",
       "      <td>$3,000.00</td>\n",
       "    </tr>\n",
       "    <tr>\n",
       "      <th>freq</th>\n",
       "      <td>2092</td>\n",
       "      <td>279</td>\n",
       "      <td>233</td>\n",
       "    </tr>\n",
       "  </tbody>\n",
       "</table>\n",
       "</div>"
      ],
      "text/plain": [
       "          price weekly_price monthly_price\n",
       "count     50599         5654          4916\n",
       "unique      647          589           650\n",
       "top     $100.00      $500.00     $3,000.00\n",
       "freq       2092          279           233"
      ]
     },
     "execution_count": 77,
     "metadata": {},
     "output_type": "execute_result"
    }
   ],
   "source": [
    "# summary of price\n",
    "listings[price_cols].describe()"
   ]
  },
  {
   "cell_type": "code",
   "execution_count": 78,
   "metadata": {},
   "outputs": [
    {
     "data": {
      "text/html": [
       "<div>\n",
       "<style scoped>\n",
       "    .dataframe tbody tr th:only-of-type {\n",
       "        vertical-align: middle;\n",
       "    }\n",
       "\n",
       "    .dataframe tbody tr th {\n",
       "        vertical-align: top;\n",
       "    }\n",
       "\n",
       "    .dataframe thead th {\n",
       "        text-align: right;\n",
       "    }\n",
       "</style>\n",
       "<table border=\"1\" class=\"dataframe\">\n",
       "  <thead>\n",
       "    <tr style=\"text-align: right;\">\n",
       "      <th></th>\n",
       "      <th>price</th>\n",
       "      <th>weekly_price</th>\n",
       "      <th>monthly_price</th>\n",
       "    </tr>\n",
       "  </thead>\n",
       "  <tbody>\n",
       "    <tr>\n",
       "      <th>0</th>\n",
       "      <td>$225.00</td>\n",
       "      <td>$1,995.00</td>\n",
       "      <td>NaN</td>\n",
       "    </tr>\n",
       "    <tr>\n",
       "      <th>1</th>\n",
       "      <td>$89.00</td>\n",
       "      <td>$575.00</td>\n",
       "      <td>$2,100.00</td>\n",
       "    </tr>\n",
       "    <tr>\n",
       "      <th>2</th>\n",
       "      <td>$200.00</td>\n",
       "      <td>NaN</td>\n",
       "      <td>NaN</td>\n",
       "    </tr>\n",
       "    <tr>\n",
       "      <th>3</th>\n",
       "      <td>$60.00</td>\n",
       "      <td>NaN</td>\n",
       "      <td>NaN</td>\n",
       "    </tr>\n",
       "    <tr>\n",
       "      <th>4</th>\n",
       "      <td>$79.00</td>\n",
       "      <td>$470.00</td>\n",
       "      <td>NaN</td>\n",
       "    </tr>\n",
       "  </tbody>\n",
       "</table>\n",
       "</div>"
      ],
      "text/plain": [
       "     price weekly_price monthly_price\n",
       "0  $225.00    $1,995.00           NaN\n",
       "1   $89.00      $575.00     $2,100.00\n",
       "2  $200.00          NaN           NaN\n",
       "3   $60.00          NaN           NaN\n",
       "4   $79.00      $470.00           NaN"
      ]
     },
     "execution_count": 78,
     "metadata": {},
     "output_type": "execute_result"
    }
   ],
   "source": [
    "# sample head of price\n",
    "listings[price_cols].head()"
   ]
  },
  {
   "cell_type": "markdown",
   "metadata": {},
   "source": [
    "### Price columns originally as strings or mixed; these are transformed to numeric"
   ]
  },
  {
   "cell_type": "code",
   "execution_count": 79,
   "metadata": {},
   "outputs": [
    {
     "data": {
      "text/plain": [
       "array([<class 'str'>], dtype=object)"
      ]
     },
     "execution_count": 79,
     "metadata": {},
     "output_type": "execute_result"
    }
   ],
   "source": [
    "listings['price'].apply(type).unique()"
   ]
  },
  {
   "cell_type": "code",
   "execution_count": 80,
   "metadata": {},
   "outputs": [
    {
     "data": {
      "text/plain": [
       "array([<class 'str'>, <class 'float'>], dtype=object)"
      ]
     },
     "execution_count": 80,
     "metadata": {},
     "output_type": "execute_result"
    }
   ],
   "source": [
    "listings['weekly_price'].apply(type).unique()"
   ]
  },
  {
   "cell_type": "code",
   "execution_count": 81,
   "metadata": {},
   "outputs": [
    {
     "data": {
      "text/plain": [
       "array([<class 'float'>, <class 'str'>], dtype=object)"
      ]
     },
     "execution_count": 81,
     "metadata": {},
     "output_type": "execute_result"
    }
   ],
   "source": [
    "listings['monthly_price'].apply(type).unique()"
   ]
  },
  {
   "cell_type": "code",
   "execution_count": 82,
   "metadata": {},
   "outputs": [
    {
     "data": {
      "text/plain": [
       "array([<class 'str'>], dtype=object)"
      ]
     },
     "execution_count": 82,
     "metadata": {},
     "output_type": "execute_result"
    }
   ],
   "source": [
    "listings['extra_people'].apply(type).unique()"
   ]
  },
  {
   "cell_type": "code",
   "execution_count": 83,
   "metadata": {},
   "outputs": [],
   "source": [
    "# function to clean price values that are string\n",
    "def clean_string_price(x):\n",
    "    if isinstance(x, str):\n",
    "        out = re.sub(\"[$,]\", \"\", x)\n",
    "        return out\n",
    "\n",
    "listings['price'] = listings['price'].apply(clean_string_price).astype('float')\n",
    "listings['weekly_price'] = listings['weekly_price'].apply(clean_string_price).astype('float')\n",
    "listings['monthly_price'] = listings['monthly_price'].apply(clean_string_price).astype('float')\n",
    "listings['extra_people'] = listings['extra_people'].apply(clean_string_price).astype('float')"
   ]
  },
  {
   "cell_type": "code",
   "execution_count": 84,
   "metadata": {},
   "outputs": [
    {
     "data": {
      "text/html": [
       "<div>\n",
       "<style scoped>\n",
       "    .dataframe tbody tr th:only-of-type {\n",
       "        vertical-align: middle;\n",
       "    }\n",
       "\n",
       "    .dataframe tbody tr th {\n",
       "        vertical-align: top;\n",
       "    }\n",
       "\n",
       "    .dataframe thead th {\n",
       "        text-align: right;\n",
       "    }\n",
       "</style>\n",
       "<table border=\"1\" class=\"dataframe\">\n",
       "  <thead>\n",
       "    <tr style=\"text-align: right;\">\n",
       "      <th></th>\n",
       "      <th>price</th>\n",
       "      <th>weekly_price</th>\n",
       "      <th>monthly_price</th>\n",
       "    </tr>\n",
       "  </thead>\n",
       "  <tbody>\n",
       "    <tr>\n",
       "      <th>count</th>\n",
       "      <td>50599.000000</td>\n",
       "      <td>5654.000000</td>\n",
       "      <td>4916.000000</td>\n",
       "    </tr>\n",
       "    <tr>\n",
       "      <th>mean</th>\n",
       "      <td>158.171782</td>\n",
       "      <td>890.337283</td>\n",
       "      <td>2932.860252</td>\n",
       "    </tr>\n",
       "    <tr>\n",
       "      <th>std</th>\n",
       "      <td>348.089562</td>\n",
       "      <td>799.755626</td>\n",
       "      <td>2539.567001</td>\n",
       "    </tr>\n",
       "    <tr>\n",
       "      <th>min</th>\n",
       "      <td>0.000000</td>\n",
       "      <td>85.000000</td>\n",
       "      <td>455.000000</td>\n",
       "    </tr>\n",
       "    <tr>\n",
       "      <th>25%</th>\n",
       "      <td>69.000000</td>\n",
       "      <td>470.000000</td>\n",
       "      <td>1500.000000</td>\n",
       "    </tr>\n",
       "    <tr>\n",
       "      <th>50%</th>\n",
       "      <td>105.000000</td>\n",
       "      <td>700.000000</td>\n",
       "      <td>2400.000000</td>\n",
       "    </tr>\n",
       "    <tr>\n",
       "      <th>75%</th>\n",
       "      <td>175.000000</td>\n",
       "      <td>1050.000000</td>\n",
       "      <td>3500.000000</td>\n",
       "    </tr>\n",
       "    <tr>\n",
       "      <th>max</th>\n",
       "      <td>10000.000000</td>\n",
       "      <td>14000.000000</td>\n",
       "      <td>45000.000000</td>\n",
       "    </tr>\n",
       "  </tbody>\n",
       "</table>\n",
       "</div>"
      ],
      "text/plain": [
       "              price  weekly_price  monthly_price\n",
       "count  50599.000000   5654.000000    4916.000000\n",
       "mean     158.171782    890.337283    2932.860252\n",
       "std      348.089562    799.755626    2539.567001\n",
       "min        0.000000     85.000000     455.000000\n",
       "25%       69.000000    470.000000    1500.000000\n",
       "50%      105.000000    700.000000    2400.000000\n",
       "75%      175.000000   1050.000000    3500.000000\n",
       "max    10000.000000  14000.000000   45000.000000"
      ]
     },
     "execution_count": 84,
     "metadata": {},
     "output_type": "execute_result"
    }
   ],
   "source": [
    "listings[price_cols].describe()"
   ]
  },
  {
   "cell_type": "markdown",
   "metadata": {},
   "source": [
    "## Assess for Missing Data"
   ]
  },
  {
   "cell_type": "code",
   "execution_count": 85,
   "metadata": {},
   "outputs": [
    {
     "data": {
      "text/html": [
       "<div>\n",
       "<style scoped>\n",
       "    .dataframe tbody tr th:only-of-type {\n",
       "        vertical-align: middle;\n",
       "    }\n",
       "\n",
       "    .dataframe tbody tr th {\n",
       "        vertical-align: top;\n",
       "    }\n",
       "\n",
       "    .dataframe thead th {\n",
       "        text-align: right;\n",
       "    }\n",
       "</style>\n",
       "<table border=\"1\" class=\"dataframe\">\n",
       "  <thead>\n",
       "    <tr style=\"text-align: right;\">\n",
       "      <th></th>\n",
       "      <th>missing_values</th>\n",
       "      <th>proportion_missing</th>\n",
       "    </tr>\n",
       "  </thead>\n",
       "  <tbody>\n",
       "    <tr>\n",
       "      <th>thumbnail_url</th>\n",
       "      <td>50599</td>\n",
       "      <td>1.00</td>\n",
       "    </tr>\n",
       "    <tr>\n",
       "      <th>medium_url</th>\n",
       "      <td>50599</td>\n",
       "      <td>1.00</td>\n",
       "    </tr>\n",
       "    <tr>\n",
       "      <th>xl_picture_url</th>\n",
       "      <td>50599</td>\n",
       "      <td>1.00</td>\n",
       "    </tr>\n",
       "    <tr>\n",
       "      <th>host_acceptance_rate</th>\n",
       "      <td>50599</td>\n",
       "      <td>1.00</td>\n",
       "    </tr>\n",
       "    <tr>\n",
       "      <th>jurisdiction_names</th>\n",
       "      <td>50583</td>\n",
       "      <td>1.00</td>\n",
       "    </tr>\n",
       "    <tr>\n",
       "      <th>license</th>\n",
       "      <td>50577</td>\n",
       "      <td>1.00</td>\n",
       "    </tr>\n",
       "    <tr>\n",
       "      <th>square_feet</th>\n",
       "      <td>50213</td>\n",
       "      <td>0.99</td>\n",
       "    </tr>\n",
       "    <tr>\n",
       "      <th>monthly_price</th>\n",
       "      <td>45683</td>\n",
       "      <td>0.90</td>\n",
       "    </tr>\n",
       "    <tr>\n",
       "      <th>weekly_price</th>\n",
       "      <td>44945</td>\n",
       "      <td>0.89</td>\n",
       "    </tr>\n",
       "    <tr>\n",
       "      <th>notes</th>\n",
       "      <td>29976</td>\n",
       "      <td>0.59</td>\n",
       "    </tr>\n",
       "    <tr>\n",
       "      <th>access</th>\n",
       "      <td>23543</td>\n",
       "      <td>0.47</td>\n",
       "    </tr>\n",
       "    <tr>\n",
       "      <th>interaction</th>\n",
       "      <td>20526</td>\n",
       "      <td>0.41</td>\n",
       "    </tr>\n",
       "    <tr>\n",
       "      <th>host_about</th>\n",
       "      <td>20290</td>\n",
       "      <td>0.40</td>\n",
       "    </tr>\n",
       "    <tr>\n",
       "      <th>house_rules</th>\n",
       "      <td>19520</td>\n",
       "      <td>0.39</td>\n",
       "    </tr>\n",
       "    <tr>\n",
       "      <th>host_response_time</th>\n",
       "      <td>17658</td>\n",
       "      <td>0.35</td>\n",
       "    </tr>\n",
       "    <tr>\n",
       "      <th>host_response_rate</th>\n",
       "      <td>17658</td>\n",
       "      <td>0.35</td>\n",
       "    </tr>\n",
       "    <tr>\n",
       "      <th>neighborhood_overview</th>\n",
       "      <td>17471</td>\n",
       "      <td>0.35</td>\n",
       "    </tr>\n",
       "    <tr>\n",
       "      <th>security_deposit</th>\n",
       "      <td>17470</td>\n",
       "      <td>0.35</td>\n",
       "    </tr>\n",
       "    <tr>\n",
       "      <th>transit</th>\n",
       "      <td>17416</td>\n",
       "      <td>0.34</td>\n",
       "    </tr>\n",
       "    <tr>\n",
       "      <th>space</th>\n",
       "      <td>14135</td>\n",
       "      <td>0.28</td>\n",
       "    </tr>\n",
       "    <tr>\n",
       "      <th>review_scores_location</th>\n",
       "      <td>11218</td>\n",
       "      <td>0.22</td>\n",
       "    </tr>\n",
       "    <tr>\n",
       "      <th>review_scores_value</th>\n",
       "      <td>11217</td>\n",
       "      <td>0.22</td>\n",
       "    </tr>\n",
       "    <tr>\n",
       "      <th>review_scores_checkin</th>\n",
       "      <td>11214</td>\n",
       "      <td>0.22</td>\n",
       "    </tr>\n",
       "    <tr>\n",
       "      <th>review_scores_accuracy</th>\n",
       "      <td>11198</td>\n",
       "      <td>0.22</td>\n",
       "    </tr>\n",
       "    <tr>\n",
       "      <th>review_scores_communication</th>\n",
       "      <td>11195</td>\n",
       "      <td>0.22</td>\n",
       "    </tr>\n",
       "    <tr>\n",
       "      <th>review_scores_cleanliness</th>\n",
       "      <td>11184</td>\n",
       "      <td>0.22</td>\n",
       "    </tr>\n",
       "    <tr>\n",
       "      <th>review_scores_rating</th>\n",
       "      <td>11162</td>\n",
       "      <td>0.22</td>\n",
       "    </tr>\n",
       "    <tr>\n",
       "      <th>cleaning_fee</th>\n",
       "      <td>10491</td>\n",
       "      <td>0.21</td>\n",
       "    </tr>\n",
       "    <tr>\n",
       "      <th>reviews_per_month</th>\n",
       "      <td>10220</td>\n",
       "      <td>0.20</td>\n",
       "    </tr>\n",
       "    <tr>\n",
       "      <th>first_review</th>\n",
       "      <td>10220</td>\n",
       "      <td>0.20</td>\n",
       "    </tr>\n",
       "    <tr>\n",
       "      <th>last_review</th>\n",
       "      <td>10220</td>\n",
       "      <td>0.20</td>\n",
       "    </tr>\n",
       "    <tr>\n",
       "      <th>host_neighbourhood</th>\n",
       "      <td>7011</td>\n",
       "      <td>0.14</td>\n",
       "    </tr>\n",
       "    <tr>\n",
       "      <th>summary</th>\n",
       "      <td>2232</td>\n",
       "      <td>0.04</td>\n",
       "    </tr>\n",
       "    <tr>\n",
       "      <th>description</th>\n",
       "      <td>1032</td>\n",
       "      <td>0.02</td>\n",
       "    </tr>\n",
       "    <tr>\n",
       "      <th>host_location</th>\n",
       "      <td>714</td>\n",
       "      <td>0.01</td>\n",
       "    </tr>\n",
       "    <tr>\n",
       "      <th>host_has_profile_pic</th>\n",
       "      <td>563</td>\n",
       "      <td>0.01</td>\n",
       "    </tr>\n",
       "    <tr>\n",
       "      <th>host_picture_url</th>\n",
       "      <td>563</td>\n",
       "      <td>0.01</td>\n",
       "    </tr>\n",
       "    <tr>\n",
       "      <th>host_thumbnail_url</th>\n",
       "      <td>563</td>\n",
       "      <td>0.01</td>\n",
       "    </tr>\n",
       "    <tr>\n",
       "      <th>host_listings_count</th>\n",
       "      <td>563</td>\n",
       "      <td>0.01</td>\n",
       "    </tr>\n",
       "    <tr>\n",
       "      <th>host_is_superhost</th>\n",
       "      <td>563</td>\n",
       "      <td>0.01</td>\n",
       "    </tr>\n",
       "    <tr>\n",
       "      <th>host_identity_verified</th>\n",
       "      <td>563</td>\n",
       "      <td>0.01</td>\n",
       "    </tr>\n",
       "    <tr>\n",
       "      <th>host_since</th>\n",
       "      <td>563</td>\n",
       "      <td>0.01</td>\n",
       "    </tr>\n",
       "    <tr>\n",
       "      <th>host_name</th>\n",
       "      <td>563</td>\n",
       "      <td>0.01</td>\n",
       "    </tr>\n",
       "    <tr>\n",
       "      <th>host_total_listings_count</th>\n",
       "      <td>563</td>\n",
       "      <td>0.01</td>\n",
       "    </tr>\n",
       "    <tr>\n",
       "      <th>zipcode</th>\n",
       "      <td>465</td>\n",
       "      <td>0.01</td>\n",
       "    </tr>\n",
       "    <tr>\n",
       "      <th>beds</th>\n",
       "      <td>132</td>\n",
       "      <td>0.00</td>\n",
       "    </tr>\n",
       "    <tr>\n",
       "      <th>city</th>\n",
       "      <td>129</td>\n",
       "      <td>0.00</td>\n",
       "    </tr>\n",
       "    <tr>\n",
       "      <th>market</th>\n",
       "      <td>103</td>\n",
       "      <td>0.00</td>\n",
       "    </tr>\n",
       "    <tr>\n",
       "      <th>bedrooms</th>\n",
       "      <td>63</td>\n",
       "      <td>0.00</td>\n",
       "    </tr>\n",
       "    <tr>\n",
       "      <th>bathrooms</th>\n",
       "      <td>51</td>\n",
       "      <td>0.00</td>\n",
       "    </tr>\n",
       "    <tr>\n",
       "      <th>name</th>\n",
       "      <td>17</td>\n",
       "      <td>0.00</td>\n",
       "    </tr>\n",
       "    <tr>\n",
       "      <th>neighbourhood</th>\n",
       "      <td>11</td>\n",
       "      <td>0.00</td>\n",
       "    </tr>\n",
       "    <tr>\n",
       "      <th>state</th>\n",
       "      <td>5</td>\n",
       "      <td>0.00</td>\n",
       "    </tr>\n",
       "  </tbody>\n",
       "</table>\n",
       "</div>"
      ],
      "text/plain": [
       "                             missing_values  proportion_missing\n",
       "thumbnail_url                         50599                1.00\n",
       "medium_url                            50599                1.00\n",
       "xl_picture_url                        50599                1.00\n",
       "host_acceptance_rate                  50599                1.00\n",
       "jurisdiction_names                    50583                1.00\n",
       "license                               50577                1.00\n",
       "square_feet                           50213                0.99\n",
       "monthly_price                         45683                0.90\n",
       "weekly_price                          44945                0.89\n",
       "notes                                 29976                0.59\n",
       "access                                23543                0.47\n",
       "interaction                           20526                0.41\n",
       "host_about                            20290                0.40\n",
       "house_rules                           19520                0.39\n",
       "host_response_time                    17658                0.35\n",
       "host_response_rate                    17658                0.35\n",
       "neighborhood_overview                 17471                0.35\n",
       "security_deposit                      17470                0.35\n",
       "transit                               17416                0.34\n",
       "space                                 14135                0.28\n",
       "review_scores_location                11218                0.22\n",
       "review_scores_value                   11217                0.22\n",
       "review_scores_checkin                 11214                0.22\n",
       "review_scores_accuracy                11198                0.22\n",
       "review_scores_communication           11195                0.22\n",
       "review_scores_cleanliness             11184                0.22\n",
       "review_scores_rating                  11162                0.22\n",
       "cleaning_fee                          10491                0.21\n",
       "reviews_per_month                     10220                0.20\n",
       "first_review                          10220                0.20\n",
       "last_review                           10220                0.20\n",
       "host_neighbourhood                     7011                0.14\n",
       "summary                                2232                0.04\n",
       "description                            1032                0.02\n",
       "host_location                           714                0.01\n",
       "host_has_profile_pic                    563                0.01\n",
       "host_picture_url                        563                0.01\n",
       "host_thumbnail_url                      563                0.01\n",
       "host_listings_count                     563                0.01\n",
       "host_is_superhost                       563                0.01\n",
       "host_identity_verified                  563                0.01\n",
       "host_since                              563                0.01\n",
       "host_name                               563                0.01\n",
       "host_total_listings_count               563                0.01\n",
       "zipcode                                 465                0.01\n",
       "beds                                    132                0.00\n",
       "city                                    129                0.00\n",
       "market                                  103                0.00\n",
       "bedrooms                                 63                0.00\n",
       "bathrooms                                51                0.00\n",
       "name                                     17                0.00\n",
       "neighbourhood                            11                0.00\n",
       "state                                     5                0.00"
      ]
     },
     "execution_count": 85,
     "metadata": {},
     "output_type": "execute_result"
    }
   ],
   "source": [
    "check_missing = listings.isna().sum().sort_values(ascending=False)\n",
    "pd.DataFrame(dict(\n",
    "    missing_values = check_missing[check_missing > 0],\n",
    "    proportion_missing = round(check_missing[check_missing > 0] / 50599,2)\n",
    "))"
   ]
  },
  {
   "cell_type": "markdown",
   "metadata": {},
   "source": [
    "### Several variables have a high proportion of missing values (>80%). These will be removed entirely from the analysis.\n",
    "* Incidentally these include two of the price variables: \"monthly_price\" and \"weekly_price\", as well as URLs, host_acceptance_rate, jurisdiction_names, license, and square_feet"
   ]
  },
  {
   "cell_type": "markdown",
   "metadata": {},
   "source": [
    "## Exclude columns with greater than 80% missing data"
   ]
  },
  {
   "cell_type": "code",
   "execution_count": 86,
   "metadata": {},
   "outputs": [],
   "source": [
    "vars_excl = ['thumbnail_url','medium_url','xl_picture_url','host_acceptance_rate','jurisdiction_names','license','square_feet','monthly_price','weekly_price']\n",
    "remove_these = [col for col in vars_excl if col in listings.columns]\n",
    "if set(remove_these).issubset(listings.columns):\n",
    "    listings = listings.drop(remove_these, axis=1)"
   ]
  },
  {
   "cell_type": "markdown",
   "metadata": {},
   "source": [
    "## Assess for uniqueness in columns"
   ]
  },
  {
   "cell_type": "code",
   "execution_count": 87,
   "metadata": {},
   "outputs": [],
   "source": [
    "constant_cols = list(set(listings.columns) - set(listings.loc[:, (listings != listings.iloc[0]).any()].columns))"
   ]
  },
  {
   "cell_type": "code",
   "execution_count": 88,
   "metadata": {},
   "outputs": [
    {
     "data": {
      "text/html": [
       "<div>\n",
       "<style scoped>\n",
       "    .dataframe tbody tr th:only-of-type {\n",
       "        vertical-align: middle;\n",
       "    }\n",
       "\n",
       "    .dataframe tbody tr th {\n",
       "        vertical-align: top;\n",
       "    }\n",
       "\n",
       "    .dataframe thead th {\n",
       "        text-align: right;\n",
       "    }\n",
       "</style>\n",
       "<table border=\"1\" class=\"dataframe\">\n",
       "  <thead>\n",
       "    <tr style=\"text-align: right;\">\n",
       "      <th></th>\n",
       "      <th>scrape_id</th>\n",
       "      <th>country_code</th>\n",
       "      <th>requires_license</th>\n",
       "      <th>experiences_offered</th>\n",
       "      <th>country</th>\n",
       "      <th>has_availability</th>\n",
       "      <th>is_business_travel_ready</th>\n",
       "    </tr>\n",
       "  </thead>\n",
       "  <tbody>\n",
       "    <tr>\n",
       "      <th>0</th>\n",
       "      <td>20191204162729</td>\n",
       "      <td>US</td>\n",
       "      <td>f</td>\n",
       "      <td>none</td>\n",
       "      <td>United States</td>\n",
       "      <td>t</td>\n",
       "      <td>f</td>\n",
       "    </tr>\n",
       "    <tr>\n",
       "      <th>1</th>\n",
       "      <td>20191204162729</td>\n",
       "      <td>US</td>\n",
       "      <td>f</td>\n",
       "      <td>none</td>\n",
       "      <td>United States</td>\n",
       "      <td>t</td>\n",
       "      <td>f</td>\n",
       "    </tr>\n",
       "    <tr>\n",
       "      <th>2</th>\n",
       "      <td>20191204162729</td>\n",
       "      <td>US</td>\n",
       "      <td>f</td>\n",
       "      <td>none</td>\n",
       "      <td>United States</td>\n",
       "      <td>t</td>\n",
       "      <td>f</td>\n",
       "    </tr>\n",
       "    <tr>\n",
       "      <th>3</th>\n",
       "      <td>20191204162729</td>\n",
       "      <td>US</td>\n",
       "      <td>f</td>\n",
       "      <td>none</td>\n",
       "      <td>United States</td>\n",
       "      <td>t</td>\n",
       "      <td>f</td>\n",
       "    </tr>\n",
       "    <tr>\n",
       "      <th>4</th>\n",
       "      <td>20191204162729</td>\n",
       "      <td>US</td>\n",
       "      <td>f</td>\n",
       "      <td>none</td>\n",
       "      <td>United States</td>\n",
       "      <td>t</td>\n",
       "      <td>f</td>\n",
       "    </tr>\n",
       "    <tr>\n",
       "      <th>...</th>\n",
       "      <td>...</td>\n",
       "      <td>...</td>\n",
       "      <td>...</td>\n",
       "      <td>...</td>\n",
       "      <td>...</td>\n",
       "      <td>...</td>\n",
       "      <td>...</td>\n",
       "    </tr>\n",
       "    <tr>\n",
       "      <th>50594</th>\n",
       "      <td>20191204162729</td>\n",
       "      <td>US</td>\n",
       "      <td>f</td>\n",
       "      <td>none</td>\n",
       "      <td>United States</td>\n",
       "      <td>t</td>\n",
       "      <td>f</td>\n",
       "    </tr>\n",
       "    <tr>\n",
       "      <th>50595</th>\n",
       "      <td>20191204162729</td>\n",
       "      <td>US</td>\n",
       "      <td>f</td>\n",
       "      <td>none</td>\n",
       "      <td>United States</td>\n",
       "      <td>t</td>\n",
       "      <td>f</td>\n",
       "    </tr>\n",
       "    <tr>\n",
       "      <th>50596</th>\n",
       "      <td>20191204162729</td>\n",
       "      <td>US</td>\n",
       "      <td>f</td>\n",
       "      <td>none</td>\n",
       "      <td>United States</td>\n",
       "      <td>t</td>\n",
       "      <td>f</td>\n",
       "    </tr>\n",
       "    <tr>\n",
       "      <th>50597</th>\n",
       "      <td>20191204162729</td>\n",
       "      <td>US</td>\n",
       "      <td>f</td>\n",
       "      <td>none</td>\n",
       "      <td>United States</td>\n",
       "      <td>t</td>\n",
       "      <td>f</td>\n",
       "    </tr>\n",
       "    <tr>\n",
       "      <th>50598</th>\n",
       "      <td>20191204162729</td>\n",
       "      <td>US</td>\n",
       "      <td>f</td>\n",
       "      <td>none</td>\n",
       "      <td>United States</td>\n",
       "      <td>t</td>\n",
       "      <td>f</td>\n",
       "    </tr>\n",
       "  </tbody>\n",
       "</table>\n",
       "<p>50599 rows × 7 columns</p>\n",
       "</div>"
      ],
      "text/plain": [
       "            scrape_id country_code requires_license experiences_offered  \\\n",
       "0      20191204162729           US                f                none   \n",
       "1      20191204162729           US                f                none   \n",
       "2      20191204162729           US                f                none   \n",
       "3      20191204162729           US                f                none   \n",
       "4      20191204162729           US                f                none   \n",
       "...               ...          ...              ...                 ...   \n",
       "50594  20191204162729           US                f                none   \n",
       "50595  20191204162729           US                f                none   \n",
       "50596  20191204162729           US                f                none   \n",
       "50597  20191204162729           US                f                none   \n",
       "50598  20191204162729           US                f                none   \n",
       "\n",
       "             country has_availability is_business_travel_ready  \n",
       "0      United States                t                        f  \n",
       "1      United States                t                        f  \n",
       "2      United States                t                        f  \n",
       "3      United States                t                        f  \n",
       "4      United States                t                        f  \n",
       "...              ...              ...                      ...  \n",
       "50594  United States                t                        f  \n",
       "50595  United States                t                        f  \n",
       "50596  United States                t                        f  \n",
       "50597  United States                t                        f  \n",
       "50598  United States                t                        f  \n",
       "\n",
       "[50599 rows x 7 columns]"
      ]
     },
     "execution_count": 88,
     "metadata": {},
     "output_type": "execute_result"
    }
   ],
   "source": [
    "listings[constant_cols]"
   ]
  },
  {
   "cell_type": "markdown",
   "metadata": {},
   "source": [
    "### The columns 'has_availability', 'experiences_offered', 'country', 'country_code', 'is_business_travel_ready', 'scrape_id', and 'requires_license' only contain *unique values*.\n",
    "* These columns will be removed for the purposes of this activity"
   ]
  },
  {
   "cell_type": "code",
   "execution_count": 89,
   "metadata": {},
   "outputs": [],
   "source": [
    "remove_these = [col for col in constant_cols if col in listings.columns]\n",
    "if set(remove_these).issubset(listings.columns):\n",
    "    listings = listings.drop(remove_these, axis=1)"
   ]
  },
  {
   "cell_type": "markdown",
   "metadata": {},
   "source": [
    "## Inspect the data types for the rest of the columns and exclude those that don't make sense for regression or segmentation analysis"
   ]
  },
  {
   "cell_type": "code",
   "execution_count": 90,
   "metadata": {},
   "outputs": [],
   "source": [
    "# id might be useful, but not as a variable. Set as index\n",
    "listings = listings.set_index('id')"
   ]
  },
  {
   "cell_type": "code",
   "execution_count": 91,
   "metadata": {},
   "outputs": [],
   "source": [
    "# any columns that are URLs can be removed\n",
    "url_cols = [col for col in listings.columns if re.search('url', col)]\n",
    "remove_these = [col for col in url_cols if col in listings.columns]\n",
    "if set(remove_these).issubset(listings.columns):\n",
    "    listings = listings.drop(remove_these, axis=1)"
   ]
  },
  {
   "cell_type": "code",
   "execution_count": 92,
   "metadata": {},
   "outputs": [],
   "source": [
    "# any columns with mention of the word 'scrape' can be removed as it is a reference to the data collection\n",
    "scrape_cols = [col for col in listings.columns if re.search('scrape', col)]\n",
    "remove_these = [col for col in scrape_cols if col in listings.columns]\n",
    "if set(remove_these).issubset(listings.columns):\n",
    "    listings = listings.drop(remove_these, axis=1)"
   ]
  },
  {
   "cell_type": "code",
   "execution_count": 93,
   "metadata": {},
   "outputs": [],
   "source": [
    "# look for free-text columns that are either redundant or long strings of text\n",
    "dfstr = listings.loc[:, listings.dtypes == 'object']"
   ]
  },
  {
   "cell_type": "code",
   "execution_count": 94,
   "metadata": {},
   "outputs": [],
   "source": [
    "# function to apply over column and get average length of strings\n",
    "def getavg(col):\n",
    "    return col.astype(str).map(len).mean()\n",
    "# get average length of strings in each column\n",
    "# dfstr.apply(getavg, axis=0).sort_values(ascending = False)"
   ]
  },
  {
   "cell_type": "code",
   "execution_count": 95,
   "metadata": {},
   "outputs": [],
   "source": [
    "# for the purposes of this analysis, columns for long text descriptions will be removed\n",
    "# some others such as host_location and street will also be removed as neighborhood details for segmentation will not be excluded\n",
    "# likewise, latitude and longitude aren't necessary to keep as zip codes are available\n",
    "# remove id columns and host name\n",
    "# remove security deposit and cleaning fee (>25% missing values)\n",
    "desc_cols = ['description','space','summary','amenities','neighborhood_overview','house_rules','host_about','transit','notes','interaction','access','host_verifications','name','host_location','street','latitude','longitude','id','host_id', 'host_name', 'security_deposit','cleaning_fee']\n",
    "remove_these = [col for col in desc_cols if col in listings.columns]\n",
    "if set(remove_these).issubset(listings.columns):\n",
    "    listings = listings.drop(remove_these, axis=1)"
   ]
  },
  {
   "cell_type": "code",
   "execution_count": 96,
   "metadata": {},
   "outputs": [],
   "source": [
    "dfstr = listings.loc[:, listings.dtypes == 'object']\n",
    "# dfstr.apply(lambda x: x[:3], axis=0).transpose()"
   ]
  },
  {
   "cell_type": "markdown",
   "metadata": {},
   "source": [
    "## Transform Dates\n",
    "* Variables 'host_since', 'first_review', and 'last_review' need to be converted from string to date \n",
    "* Additional variables created that might be useful for regression and segmentation analysis:\n",
    "    * 'host_tenure': difference in days between 'host_since' and max('host_since') (based on available data)\n",
    "    * 'review_duration': difference in days between 'last_review' and 'first_review' (based on available data)"
   ]
  },
  {
   "cell_type": "code",
   "execution_count": 97,
   "metadata": {},
   "outputs": [
    {
     "data": {
      "text/html": [
       "<div>\n",
       "<style scoped>\n",
       "    .dataframe tbody tr th:only-of-type {\n",
       "        vertical-align: middle;\n",
       "    }\n",
       "\n",
       "    .dataframe tbody tr th {\n",
       "        vertical-align: top;\n",
       "    }\n",
       "\n",
       "    .dataframe thead th {\n",
       "        text-align: right;\n",
       "    }\n",
       "</style>\n",
       "<table border=\"1\" class=\"dataframe\">\n",
       "  <thead>\n",
       "    <tr style=\"text-align: right;\">\n",
       "      <th></th>\n",
       "      <th>host_since</th>\n",
       "      <th>first_review</th>\n",
       "      <th>last_review</th>\n",
       "    </tr>\n",
       "    <tr>\n",
       "      <th>id</th>\n",
       "      <th></th>\n",
       "      <th></th>\n",
       "      <th></th>\n",
       "    </tr>\n",
       "  </thead>\n",
       "  <tbody>\n",
       "    <tr>\n",
       "      <th>2595</th>\n",
       "      <td>2008-09-09</td>\n",
       "      <td>2009-11-21</td>\n",
       "      <td>2019-11-04</td>\n",
       "    </tr>\n",
       "    <tr>\n",
       "      <th>3831</th>\n",
       "      <td>2008-12-07</td>\n",
       "      <td>2014-09-30</td>\n",
       "      <td>2019-11-22</td>\n",
       "    </tr>\n",
       "    <tr>\n",
       "      <th>5099</th>\n",
       "      <td>2009-02-02</td>\n",
       "      <td>2009-04-20</td>\n",
       "      <td>2019-10-13</td>\n",
       "    </tr>\n",
       "    <tr>\n",
       "      <th>5121</th>\n",
       "      <td>2009-02-03</td>\n",
       "      <td>2009-05-28</td>\n",
       "      <td>2017-10-05</td>\n",
       "    </tr>\n",
       "    <tr>\n",
       "      <th>5178</th>\n",
       "      <td>2009-03-03</td>\n",
       "      <td>2009-05-06</td>\n",
       "      <td>2019-11-21</td>\n",
       "    </tr>\n",
       "  </tbody>\n",
       "</table>\n",
       "</div>"
      ],
      "text/plain": [
       "     host_since first_review last_review\n",
       "id                                      \n",
       "2595 2008-09-09   2009-11-21  2019-11-04\n",
       "3831 2008-12-07   2014-09-30  2019-11-22\n",
       "5099 2009-02-02   2009-04-20  2019-10-13\n",
       "5121 2009-02-03   2009-05-28  2017-10-05\n",
       "5178 2009-03-03   2009-05-06  2019-11-21"
      ]
     },
     "execution_count": 97,
     "metadata": {},
     "output_type": "execute_result"
    }
   ],
   "source": [
    "listings['host_since'] = pd.to_datetime(listings['host_since'], errors = 'coerce')\n",
    "listings['first_review'] = pd.to_datetime(listings['first_review'], errors = 'coerce')\n",
    "listings['last_review'] = pd.to_datetime(listings['last_review'], errors = 'coerce')\n",
    "listings[['host_since','first_review','last_review']].head()"
   ]
  },
  {
   "cell_type": "code",
   "execution_count": 98,
   "metadata": {},
   "outputs": [
    {
     "data": {
      "text/html": [
       "<div>\n",
       "<style scoped>\n",
       "    .dataframe tbody tr th:only-of-type {\n",
       "        vertical-align: middle;\n",
       "    }\n",
       "\n",
       "    .dataframe tbody tr th {\n",
       "        vertical-align: top;\n",
       "    }\n",
       "\n",
       "    .dataframe thead th {\n",
       "        text-align: right;\n",
       "    }\n",
       "</style>\n",
       "<table border=\"1\" class=\"dataframe\">\n",
       "  <thead>\n",
       "    <tr style=\"text-align: right;\">\n",
       "      <th></th>\n",
       "      <th>host_tenure</th>\n",
       "      <th>review_duration</th>\n",
       "    </tr>\n",
       "    <tr>\n",
       "      <th>id</th>\n",
       "      <th></th>\n",
       "      <th></th>\n",
       "    </tr>\n",
       "  </thead>\n",
       "  <tbody>\n",
       "    <tr>\n",
       "      <th>2595</th>\n",
       "      <td>4102.0</td>\n",
       "      <td>3635.0</td>\n",
       "    </tr>\n",
       "    <tr>\n",
       "      <th>3831</th>\n",
       "      <td>4013.0</td>\n",
       "      <td>1879.0</td>\n",
       "    </tr>\n",
       "    <tr>\n",
       "      <th>5099</th>\n",
       "      <td>3956.0</td>\n",
       "      <td>3828.0</td>\n",
       "    </tr>\n",
       "    <tr>\n",
       "      <th>5121</th>\n",
       "      <td>3955.0</td>\n",
       "      <td>3052.0</td>\n",
       "    </tr>\n",
       "    <tr>\n",
       "      <th>5178</th>\n",
       "      <td>3927.0</td>\n",
       "      <td>3851.0</td>\n",
       "    </tr>\n",
       "  </tbody>\n",
       "</table>\n",
       "</div>"
      ],
      "text/plain": [
       "      host_tenure  review_duration\n",
       "id                                \n",
       "2595       4102.0           3635.0\n",
       "3831       4013.0           1879.0\n",
       "5099       3956.0           3828.0\n",
       "5121       3955.0           3052.0\n",
       "5178       3927.0           3851.0"
      ]
     },
     "execution_count": 98,
     "metadata": {},
     "output_type": "execute_result"
    }
   ],
   "source": [
    "listings['host_tenure'] = listings['host_since'].max() - listings['host_since']\n",
    "listings['host_tenure'] = [d.days for d in listings['host_tenure']]\n",
    "listings['review_duration'] = listings['last_review'] - listings['first_review']\n",
    "listings['review_duration'] = [d.days for d in listings['review_duration']]\n",
    "listings[['host_tenure','review_duration']].head()"
   ]
  },
  {
   "cell_type": "markdown",
   "metadata": {},
   "source": [
    "## Clean Zipcode Variable\n",
    "* It is possible that several variables require more thorough cleaning prior to modeling, but this notebook will focus primarily on cleaning the zipcode variable\n",
    "* Regular expression was used to extract a 5-digit (New York City) zip code."
   ]
  },
  {
   "cell_type": "code",
   "execution_count": 99,
   "metadata": {},
   "outputs": [
    {
     "name": "stdout",
     "output_type": "stream",
     "text": [
      "{'11238', nan, '10013', '11234', '11372', '11354', '10457', '11208', '11358', 'NY 10007', 'NY 10023', '10270', '10474', '10024', '10038', '10044', '11249\\n11249', '11412', '11429', '10470', '11433', 'NY 10014', 'NY 10028', '11691', '10460', '11249', '11203', '11230', '10012', 'NY 10006', '11216', '11233', '10458', '11428', '10035', '10032', '11374', '11355', '10463', '11217', '11694', '11385-2308', 'NY 10002', '10471', '11232', '10019', '10314', '11369', '11360', '10469', '11225', '11434', '11213', '10282', '11365', '11103', '11693', 'NY 10022', '10304', '10705', 'NY 10018', '11421', '11420', '10306', 'NY 10012', 'NY 10024', '11226', '11435', '10028', '10005', '11368', '11235', 'NY 10011', '10464', '11427', '11362', '11215', '10001', '10472', '11436', 'NY 11249', '11361', '11109', '10305', '10467', '11239', '10453', '10129', '11377', '10312', '10281', '10022', '10002-2289', '11426', '10007', '10031', '10010', '10069', '10459', '11366', '11367', '10280', '11231', '11224', '10162', '10468', '10462', '10026', '11419', '10550', '10021', '11210', '10452', '10465', '10174', 'NY 10128', '11356', '91766', '11221', 'NY 10001', '10451', '10009', '11206', '10003', '10309', '11363', '10039', '10036', '11385', '11418', '10473', '11105', '11219', '11432', '11243', '11417', '10014', 'NY 10016', 'NY 10019', '10027', '10018', '10029', '10065', '10475', '10455', 'NY 11201', 'NY 10010', 'NY 10004', ' 11374', '11378', '11101', '11201', '10016', '11364', '11559', 'NY 10036', '11416', '10002', '11212', '11207', '10033', '10011', '07093', '10075', '11415', 'NY 10075', '10456', '10466', '11375', '10017', '11236', '10025', '11223', '10303', '11001', '11106', '10310', '11423', 'NY 10003', '10128', '11218', '11228', '10037', 'NY 10065', '10454', '11237', '11370', '11220', '11214', '10461', '10030', '11104', '10307', 'NY 10038', '11357', '10040', '11204', ' ', '11373', '10301', '10308', '11422', '11211', '10006', '11209', '10004', '11103-3233', '11692', '11102', 'NY 10005', '11229', '11413', '10034', '11413-3220', '11411', '10023', '11205', '11414', '11379', '11222', '10302'}\n"
     ]
    }
   ],
   "source": [
    "print(set(listings['zipcode']))"
   ]
  },
  {
   "cell_type": "code",
   "execution_count": 100,
   "metadata": {},
   "outputs": [],
   "source": [
    "listings['zipcode'] = listings['zipcode'].str.extract(r'(\\d{5})')"
   ]
  },
  {
   "cell_type": "markdown",
   "metadata": {},
   "source": [
    "## Assess correlation between numeric variables"
   ]
  },
  {
   "cell_type": "code",
   "execution_count": 101,
   "metadata": {},
   "outputs": [],
   "source": [
    "cormat = listings.corr()\n",
    "cormatabs = cormat.abs()\n",
    "s = cormatabs.unstack()\n",
    "so = s.sort_values(kind=\"quicksort\", ascending = False).loc[s < 1]"
   ]
  },
  {
   "cell_type": "markdown",
   "metadata": {},
   "source": [
    "### High pair-wise correlations"
   ]
  },
  {
   "cell_type": "code",
   "execution_count": 102,
   "metadata": {},
   "outputs": [
    {
     "data": {
      "text/plain": [
       "maximum_nights_avg_ntm                       minimum_maximum_nights                         0.999869\n",
       "minimum_maximum_nights                       maximum_nights_avg_ntm                         0.999869\n",
       "calculated_host_listings_count_entire_homes  calculated_host_listings_count                 0.978691\n",
       "calculated_host_listings_count               calculated_host_listings_count_entire_homes    0.978691\n",
       "availability_90                              availability_60                                0.975593\n",
       "availability_60                              availability_90                                0.975593\n",
       "maximum_minimum_nights                       minimum_nights_avg_ntm                         0.961899\n",
       "minimum_nights_avg_ntm                       maximum_minimum_nights                         0.961899\n",
       "minimum_minimum_nights                       minimum_nights                                 0.960256\n",
       "minimum_nights                               minimum_minimum_nights                         0.960256\n",
       "availability_30                              availability_60                                0.890293\n",
       "availability_60                              availability_30                                0.890293\n",
       "maximum_nights_avg_ntm                       maximum_maximum_nights                         0.825614\n",
       "maximum_maximum_nights                       maximum_nights_avg_ntm                         0.825614\n",
       "availability_30                              availability_90                                0.817711\n",
       "availability_90                              availability_30                                0.817711\n",
       "maximum_maximum_nights                       minimum_maximum_nights                         0.816433\n",
       "minimum_maximum_nights                       maximum_maximum_nights                         0.816433\n",
       "reviews_per_month                            number_of_reviews_ltm                          0.810592\n",
       "number_of_reviews_ltm                        reviews_per_month                              0.810592\n",
       "minimum_nights                               minimum_nights_avg_ntm                         0.805906\n",
       "minimum_nights_avg_ntm                       minimum_nights                                 0.805906\n",
       "minimum_minimum_nights                       minimum_nights_avg_ntm                         0.783305\n",
       "minimum_nights_avg_ntm                       minimum_minimum_nights                         0.783305\n",
       "review_scores_rating                         review_scores_value                            0.771092\n",
       "review_scores_value                          review_scores_rating                           0.771092\n",
       "number_of_reviews                            number_of_reviews_ltm                          0.766547\n",
       "number_of_reviews_ltm                        number_of_reviews                              0.766547\n",
       "availability_90                              availability_365                               0.764802\n",
       "availability_365                             availability_90                                0.764802\n",
       "review_scores_accuracy                       review_scores_rating                           0.758287\n",
       "review_scores_rating                         review_scores_accuracy                         0.758287\n",
       "accommodates                                 beds                                           0.743810\n",
       "beds                                         accommodates                                   0.743810\n",
       "availability_60                              availability_365                               0.721063\n",
       "availability_365                             availability_60                                0.721063\n",
       "review_scores_cleanliness                    review_scores_rating                           0.718719\n",
       "review_scores_rating                         review_scores_cleanliness                      0.718719\n",
       "dtype: float64"
      ]
     },
     "execution_count": 102,
     "metadata": {},
     "output_type": "execute_result"
    }
   ],
   "source": [
    "so.loc[so >= 0.7]"
   ]
  },
  {
   "cell_type": "markdown",
   "metadata": {},
   "source": [
    "### There are many variables in the dataframe that are highly correlated with one another. These should be addressed during regression modeling to mitigate the effects of multicollinearity."
   ]
  },
  {
   "cell_type": "markdown",
   "metadata": {},
   "source": [
    "## Correlations between numeric variables and price"
   ]
  },
  {
   "cell_type": "code",
   "execution_count": 103,
   "metadata": {},
   "outputs": [
    {
     "data": {
      "text/plain": [
       "number_of_reviews_ltm                          -0.044478\n",
       "number_of_reviews                              -0.041875\n",
       "calculated_host_listings_count_shared_rooms    -0.037092\n",
       "calculated_host_listings_count_private_rooms   -0.030891\n",
       "host_tenure                                    -0.025922\n",
       "Name: price, dtype: float64"
      ]
     },
     "execution_count": 103,
     "metadata": {},
     "output_type": "execute_result"
    }
   ],
   "source": [
    "cormat['price'].sort_values().head()"
   ]
  },
  {
   "cell_type": "code",
   "execution_count": null,
   "metadata": {},
   "outputs": [],
   "source": []
  },
  {
   "cell_type": "markdown",
   "metadata": {},
   "source": [
    "### It doesn't appear that any of the numeric variables are *highly correlated* with price (i.e. > 0.7), but there appear to be some interesting results\n",
    "* Number of reviews is negatively correlated with price and appears to indicate that there are generally more reviews for cheaper listings\n",
    "* Variables that show positive correlation with price include:\n",
    "    * **number of guests included, bathrooms, beds, bedrooms, and the number of persons that can be accommodated**"
   ]
  },
  {
   "cell_type": "markdown",
   "metadata": {},
   "source": [
    "## Extract and cluster PRIZM features\n",
    "* Zip Codes are used to obtain PRIZM features from https://claritas360.claritas.com/mybestsegments/?_ga=2.191688681.2124823222.1579060196-470179875.1579060196#zipLookup\n",
    "* DBSCAN (density-based clustering) is used to get clusterings of listings based on their PRIZM features"
   ]
  },
  {
   "cell_type": "code",
   "execution_count": 104,
   "metadata": {},
   "outputs": [],
   "source": [
    "# get PRIZM features by zipcode from excel file\n",
    "fname = 'data/prizm_attributes.xlsx'\n",
    "prizm = pd.read_excel(fname, sheet_name='zipcodes', header=None)\n",
    "prizm = prizm.dropna() # remove rows without features\n",
    "prizm.columns = ['zipcode','features']"
   ]
  },
  {
   "cell_type": "code",
   "execution_count": 105,
   "metadata": {},
   "outputs": [],
   "source": [
    "# dictionary of features by zipcode\n",
    "d = prizm.set_index('zipcode').T.to_dict('list')"
   ]
  },
  {
   "cell_type": "code",
   "execution_count": 106,
   "metadata": {},
   "outputs": [],
   "source": [
    "# function to process features into a list of strings\n",
    "def tolist(v):\n",
    "    v = v[0]\n",
    "    return [x for x in v.split(',')]"
   ]
  },
  {
   "cell_type": "code",
   "execution_count": 107,
   "metadata": {},
   "outputs": [],
   "source": [
    "# clean dictionary values\n",
    "for k in d.keys():\n",
    "    d[k] = tolist(d[k])"
   ]
  },
  {
   "cell_type": "code",
   "execution_count": 108,
   "metadata": {},
   "outputs": [
    {
     "name": "stdout",
     "output_type": "stream",
     "text": [
      "11211 ['31', '17', '40', '56', '4']\n",
      "11221 ['42', '40', '63', '31', '17']\n",
      "11206 ['63', '31', '42', '40', '56']\n",
      "11216 ['40', '17', '31', '21', '63']\n",
      "10019 ['17', '31', '4', '40', '7']\n"
     ]
    }
   ],
   "source": [
    "# print some items\n",
    "some_keys = list(d.keys())[:5]\n",
    "for k in some_keys: \n",
    "    print(k,d[k])  "
   ]
  },
  {
   "cell_type": "code",
   "execution_count": 109,
   "metadata": {},
   "outputs": [
    {
     "name": "stdout",
     "output_type": "stream",
     "text": [
      "Sample:\n",
      "\n"
     ]
    },
    {
     "data": {
      "text/html": [
       "<div>\n",
       "<style scoped>\n",
       "    .dataframe tbody tr th:only-of-type {\n",
       "        vertical-align: middle;\n",
       "    }\n",
       "\n",
       "    .dataframe tbody tr th {\n",
       "        vertical-align: top;\n",
       "    }\n",
       "\n",
       "    .dataframe thead th {\n",
       "        text-align: right;\n",
       "    }\n",
       "</style>\n",
       "<table border=\"1\" class=\"dataframe\">\n",
       "  <thead>\n",
       "    <tr style=\"text-align: right;\">\n",
       "      <th></th>\n",
       "      <th>id</th>\n",
       "      <th>rollup</th>\n",
       "      <th>description</th>\n",
       "    </tr>\n",
       "  </thead>\n",
       "  <tbody>\n",
       "    <tr>\n",
       "      <th>0</th>\n",
       "      <td>1</td>\n",
       "      <td>Upper Crust</td>\n",
       "      <td>Wealthy Mature w/o Kids</td>\n",
       "    </tr>\n",
       "    <tr>\n",
       "      <th>1</th>\n",
       "      <td>2</td>\n",
       "      <td>Networked Neighbors</td>\n",
       "      <td>Wealthy Middle Age Mostly w/ Kids</td>\n",
       "    </tr>\n",
       "    <tr>\n",
       "      <th>2</th>\n",
       "      <td>3</td>\n",
       "      <td>Movers &amp; Shakers</td>\n",
       "      <td>Wealthy Older Mostly w/o Kids</td>\n",
       "    </tr>\n",
       "    <tr>\n",
       "      <th>3</th>\n",
       "      <td>4</td>\n",
       "      <td>Young Digerati</td>\n",
       "      <td>Wealthy Younger Mostly w/ Kids</td>\n",
       "    </tr>\n",
       "    <tr>\n",
       "      <th>4</th>\n",
       "      <td>6</td>\n",
       "      <td>Winner's Circle</td>\n",
       "      <td>Wealthy Middle Age Mostly w/ Kids</td>\n",
       "    </tr>\n",
       "  </tbody>\n",
       "</table>\n",
       "</div>"
      ],
      "text/plain": [
       "   id               rollup                        description\n",
       "0   1          Upper Crust            Wealthy Mature w/o Kids\n",
       "1   2  Networked Neighbors  Wealthy Middle Age Mostly w/ Kids\n",
       "2   3     Movers & Shakers      Wealthy Older Mostly w/o Kids\n",
       "3   4       Young Digerati     Wealthy Younger Mostly w/ Kids\n",
       "4   6      Winner's Circle  Wealthy Middle Age Mostly w/ Kids"
      ]
     },
     "execution_count": 109,
     "metadata": {},
     "output_type": "execute_result"
    }
   ],
   "source": [
    "# prizm feature definitions\n",
    "prizm_definitions = pd.read_excel(fname, sheet_name='attributes')\n",
    "print(\"Sample:\\n\")\n",
    "prizm_definitions.head()"
   ]
  },
  {
   "cell_type": "markdown",
   "metadata": {},
   "source": [
    "## Create Prizm Featureset"
   ]
  },
  {
   "cell_type": "code",
   "execution_count": 110,
   "metadata": {},
   "outputs": [
    {
     "name": "stdout",
     "output_type": "stream",
     "text": [
      "These are the PRIZM features for New York zip codes:\n",
      "\n",
      "['1', '2', '3', '4', '6', '7', '8', '12', '13', '17', '19', '20', '21', '22', '24', '25', '31', '33', '35', '36', '40', '42', '43', '45', '49', '56', '59', '63', '64']\n"
     ]
    }
   ],
   "source": [
    "print(\"These are the PRIZM features for New York zip codes:\\n\")\n",
    "prizm_features = prizm_definitions['id'].astype('str').tolist()\n",
    "print(prizm_features)"
   ]
  },
  {
   "cell_type": "code",
   "execution_count": 111,
   "metadata": {},
   "outputs": [],
   "source": [
    "# these are the documents for which we need featureset\n",
    "zip_df = pd.DataFrame(listings['zipcode']).dropna()\n",
    "zip_df['zipcode'] = pd.to_numeric(zip_df['zipcode'])\n",
    "zip_df = zip_df[zip_df['zipcode'].isin(d.keys())]\n",
    "zip_df['features'] = [d[k] for k in zip_df['zipcode'].values]"
   ]
  },
  {
   "cell_type": "code",
   "execution_count": 112,
   "metadata": {},
   "outputs": [],
   "source": [
    "# function to create a prizm featureset\n",
    "# param: document a list of features for a zipcode\n",
    "def document_features(document, prizm_features):\n",
    "    document_words = set(document)\n",
    "    features = {}\n",
    "    for f in prizm_features:\n",
    "        features['V_{}'.format(f)] = (f in document_words)\n",
    "    return features\n",
    "# get feature sets for all zip codes in zip_df\n",
    "# documents is a list of lists where each list is a feature in zip_df\n",
    "documents = zip_df['features'].tolist()\n",
    "featuresets = [document_features(d, prizm_features) for d in documents]"
   ]
  },
  {
   "cell_type": "code",
   "execution_count": 113,
   "metadata": {},
   "outputs": [
    {
     "data": {
      "text/html": [
       "<div>\n",
       "<style scoped>\n",
       "    .dataframe tbody tr th:only-of-type {\n",
       "        vertical-align: middle;\n",
       "    }\n",
       "\n",
       "    .dataframe tbody tr th {\n",
       "        vertical-align: top;\n",
       "    }\n",
       "\n",
       "    .dataframe thead th {\n",
       "        text-align: right;\n",
       "    }\n",
       "</style>\n",
       "<table border=\"1\" class=\"dataframe\">\n",
       "  <thead>\n",
       "    <tr style=\"text-align: right;\">\n",
       "      <th></th>\n",
       "      <th>V_1</th>\n",
       "      <th>V_2</th>\n",
       "      <th>V_3</th>\n",
       "      <th>V_4</th>\n",
       "      <th>V_6</th>\n",
       "      <th>V_7</th>\n",
       "      <th>V_8</th>\n",
       "      <th>V_12</th>\n",
       "      <th>V_13</th>\n",
       "      <th>V_17</th>\n",
       "      <th>...</th>\n",
       "      <th>V_36</th>\n",
       "      <th>V_40</th>\n",
       "      <th>V_42</th>\n",
       "      <th>V_43</th>\n",
       "      <th>V_45</th>\n",
       "      <th>V_49</th>\n",
       "      <th>V_56</th>\n",
       "      <th>V_59</th>\n",
       "      <th>V_63</th>\n",
       "      <th>V_64</th>\n",
       "    </tr>\n",
       "    <tr>\n",
       "      <th>zipcode</th>\n",
       "      <th></th>\n",
       "      <th></th>\n",
       "      <th></th>\n",
       "      <th></th>\n",
       "      <th></th>\n",
       "      <th></th>\n",
       "      <th></th>\n",
       "      <th></th>\n",
       "      <th></th>\n",
       "      <th></th>\n",
       "      <th></th>\n",
       "      <th></th>\n",
       "      <th></th>\n",
       "      <th></th>\n",
       "      <th></th>\n",
       "      <th></th>\n",
       "      <th></th>\n",
       "      <th></th>\n",
       "      <th></th>\n",
       "      <th></th>\n",
       "      <th></th>\n",
       "    </tr>\n",
       "  </thead>\n",
       "  <tbody>\n",
       "    <tr>\n",
       "      <th>10018</th>\n",
       "      <td>False</td>\n",
       "      <td>False</td>\n",
       "      <td>False</td>\n",
       "      <td>True</td>\n",
       "      <td>False</td>\n",
       "      <td>True</td>\n",
       "      <td>False</td>\n",
       "      <td>False</td>\n",
       "      <td>False</td>\n",
       "      <td>True</td>\n",
       "      <td>...</td>\n",
       "      <td>False</td>\n",
       "      <td>True</td>\n",
       "      <td>False</td>\n",
       "      <td>False</td>\n",
       "      <td>False</td>\n",
       "      <td>False</td>\n",
       "      <td>False</td>\n",
       "      <td>False</td>\n",
       "      <td>False</td>\n",
       "      <td>False</td>\n",
       "    </tr>\n",
       "    <tr>\n",
       "      <th>11238</th>\n",
       "      <td>False</td>\n",
       "      <td>False</td>\n",
       "      <td>False</td>\n",
       "      <td>True</td>\n",
       "      <td>False</td>\n",
       "      <td>False</td>\n",
       "      <td>False</td>\n",
       "      <td>False</td>\n",
       "      <td>False</td>\n",
       "      <td>True</td>\n",
       "      <td>...</td>\n",
       "      <td>False</td>\n",
       "      <td>True</td>\n",
       "      <td>False</td>\n",
       "      <td>False</td>\n",
       "      <td>False</td>\n",
       "      <td>False</td>\n",
       "      <td>False</td>\n",
       "      <td>False</td>\n",
       "      <td>False</td>\n",
       "      <td>False</td>\n",
       "    </tr>\n",
       "    <tr>\n",
       "      <th>10016</th>\n",
       "      <td>False</td>\n",
       "      <td>False</td>\n",
       "      <td>False</td>\n",
       "      <td>True</td>\n",
       "      <td>False</td>\n",
       "      <td>False</td>\n",
       "      <td>False</td>\n",
       "      <td>False</td>\n",
       "      <td>False</td>\n",
       "      <td>True</td>\n",
       "      <td>...</td>\n",
       "      <td>False</td>\n",
       "      <td>True</td>\n",
       "      <td>False</td>\n",
       "      <td>False</td>\n",
       "      <td>False</td>\n",
       "      <td>False</td>\n",
       "      <td>False</td>\n",
       "      <td>False</td>\n",
       "      <td>False</td>\n",
       "      <td>False</td>\n",
       "    </tr>\n",
       "    <tr>\n",
       "      <th>11216</th>\n",
       "      <td>False</td>\n",
       "      <td>False</td>\n",
       "      <td>False</td>\n",
       "      <td>False</td>\n",
       "      <td>False</td>\n",
       "      <td>False</td>\n",
       "      <td>False</td>\n",
       "      <td>False</td>\n",
       "      <td>False</td>\n",
       "      <td>True</td>\n",
       "      <td>...</td>\n",
       "      <td>False</td>\n",
       "      <td>True</td>\n",
       "      <td>False</td>\n",
       "      <td>False</td>\n",
       "      <td>False</td>\n",
       "      <td>False</td>\n",
       "      <td>False</td>\n",
       "      <td>False</td>\n",
       "      <td>True</td>\n",
       "      <td>False</td>\n",
       "    </tr>\n",
       "    <tr>\n",
       "      <th>10019</th>\n",
       "      <td>False</td>\n",
       "      <td>False</td>\n",
       "      <td>False</td>\n",
       "      <td>True</td>\n",
       "      <td>False</td>\n",
       "      <td>True</td>\n",
       "      <td>False</td>\n",
       "      <td>False</td>\n",
       "      <td>False</td>\n",
       "      <td>True</td>\n",
       "      <td>...</td>\n",
       "      <td>False</td>\n",
       "      <td>True</td>\n",
       "      <td>False</td>\n",
       "      <td>False</td>\n",
       "      <td>False</td>\n",
       "      <td>False</td>\n",
       "      <td>False</td>\n",
       "      <td>False</td>\n",
       "      <td>False</td>\n",
       "      <td>False</td>\n",
       "    </tr>\n",
       "    <tr>\n",
       "      <th>...</th>\n",
       "      <td>...</td>\n",
       "      <td>...</td>\n",
       "      <td>...</td>\n",
       "      <td>...</td>\n",
       "      <td>...</td>\n",
       "      <td>...</td>\n",
       "      <td>...</td>\n",
       "      <td>...</td>\n",
       "      <td>...</td>\n",
       "      <td>...</td>\n",
       "      <td>...</td>\n",
       "      <td>...</td>\n",
       "      <td>...</td>\n",
       "      <td>...</td>\n",
       "      <td>...</td>\n",
       "      <td>...</td>\n",
       "      <td>...</td>\n",
       "      <td>...</td>\n",
       "      <td>...</td>\n",
       "      <td>...</td>\n",
       "      <td>...</td>\n",
       "    </tr>\n",
       "    <tr>\n",
       "      <th>10458</th>\n",
       "      <td>False</td>\n",
       "      <td>False</td>\n",
       "      <td>False</td>\n",
       "      <td>False</td>\n",
       "      <td>False</td>\n",
       "      <td>False</td>\n",
       "      <td>False</td>\n",
       "      <td>False</td>\n",
       "      <td>False</td>\n",
       "      <td>False</td>\n",
       "      <td>...</td>\n",
       "      <td>False</td>\n",
       "      <td>False</td>\n",
       "      <td>True</td>\n",
       "      <td>True</td>\n",
       "      <td>True</td>\n",
       "      <td>False</td>\n",
       "      <td>True</td>\n",
       "      <td>False</td>\n",
       "      <td>True</td>\n",
       "      <td>False</td>\n",
       "    </tr>\n",
       "    <tr>\n",
       "      <th>11105</th>\n",
       "      <td>False</td>\n",
       "      <td>False</td>\n",
       "      <td>False</td>\n",
       "      <td>False</td>\n",
       "      <td>False</td>\n",
       "      <td>False</td>\n",
       "      <td>False</td>\n",
       "      <td>False</td>\n",
       "      <td>False</td>\n",
       "      <td>True</td>\n",
       "      <td>...</td>\n",
       "      <td>False</td>\n",
       "      <td>True</td>\n",
       "      <td>False</td>\n",
       "      <td>False</td>\n",
       "      <td>False</td>\n",
       "      <td>False</td>\n",
       "      <td>False</td>\n",
       "      <td>False</td>\n",
       "      <td>True</td>\n",
       "      <td>False</td>\n",
       "    </tr>\n",
       "    <tr>\n",
       "      <th>10458</th>\n",
       "      <td>False</td>\n",
       "      <td>False</td>\n",
       "      <td>False</td>\n",
       "      <td>False</td>\n",
       "      <td>False</td>\n",
       "      <td>False</td>\n",
       "      <td>False</td>\n",
       "      <td>False</td>\n",
       "      <td>False</td>\n",
       "      <td>False</td>\n",
       "      <td>...</td>\n",
       "      <td>False</td>\n",
       "      <td>False</td>\n",
       "      <td>True</td>\n",
       "      <td>True</td>\n",
       "      <td>True</td>\n",
       "      <td>False</td>\n",
       "      <td>True</td>\n",
       "      <td>False</td>\n",
       "      <td>True</td>\n",
       "      <td>False</td>\n",
       "    </tr>\n",
       "    <tr>\n",
       "      <th>11206</th>\n",
       "      <td>False</td>\n",
       "      <td>False</td>\n",
       "      <td>False</td>\n",
       "      <td>False</td>\n",
       "      <td>False</td>\n",
       "      <td>False</td>\n",
       "      <td>False</td>\n",
       "      <td>False</td>\n",
       "      <td>False</td>\n",
       "      <td>False</td>\n",
       "      <td>...</td>\n",
       "      <td>False</td>\n",
       "      <td>True</td>\n",
       "      <td>True</td>\n",
       "      <td>False</td>\n",
       "      <td>False</td>\n",
       "      <td>False</td>\n",
       "      <td>True</td>\n",
       "      <td>False</td>\n",
       "      <td>True</td>\n",
       "      <td>False</td>\n",
       "    </tr>\n",
       "    <tr>\n",
       "      <th>11206</th>\n",
       "      <td>False</td>\n",
       "      <td>False</td>\n",
       "      <td>False</td>\n",
       "      <td>False</td>\n",
       "      <td>False</td>\n",
       "      <td>False</td>\n",
       "      <td>False</td>\n",
       "      <td>False</td>\n",
       "      <td>False</td>\n",
       "      <td>False</td>\n",
       "      <td>...</td>\n",
       "      <td>False</td>\n",
       "      <td>True</td>\n",
       "      <td>True</td>\n",
       "      <td>False</td>\n",
       "      <td>False</td>\n",
       "      <td>False</td>\n",
       "      <td>True</td>\n",
       "      <td>False</td>\n",
       "      <td>True</td>\n",
       "      <td>False</td>\n",
       "    </tr>\n",
       "  </tbody>\n",
       "</table>\n",
       "<p>50117 rows × 29 columns</p>\n",
       "</div>"
      ],
      "text/plain": [
       "           V_1    V_2    V_3    V_4    V_6    V_7    V_8   V_12   V_13   V_17  \\\n",
       "zipcode                                                                         \n",
       "10018    False  False  False   True  False   True  False  False  False   True   \n",
       "11238    False  False  False   True  False  False  False  False  False   True   \n",
       "10016    False  False  False   True  False  False  False  False  False   True   \n",
       "11216    False  False  False  False  False  False  False  False  False   True   \n",
       "10019    False  False  False   True  False   True  False  False  False   True   \n",
       "...        ...    ...    ...    ...    ...    ...    ...    ...    ...    ...   \n",
       "10458    False  False  False  False  False  False  False  False  False  False   \n",
       "11105    False  False  False  False  False  False  False  False  False   True   \n",
       "10458    False  False  False  False  False  False  False  False  False  False   \n",
       "11206    False  False  False  False  False  False  False  False  False  False   \n",
       "11206    False  False  False  False  False  False  False  False  False  False   \n",
       "\n",
       "         ...   V_36   V_40   V_42   V_43   V_45   V_49   V_56   V_59   V_63  \\\n",
       "zipcode  ...                                                                  \n",
       "10018    ...  False   True  False  False  False  False  False  False  False   \n",
       "11238    ...  False   True  False  False  False  False  False  False  False   \n",
       "10016    ...  False   True  False  False  False  False  False  False  False   \n",
       "11216    ...  False   True  False  False  False  False  False  False   True   \n",
       "10019    ...  False   True  False  False  False  False  False  False  False   \n",
       "...      ...    ...    ...    ...    ...    ...    ...    ...    ...    ...   \n",
       "10458    ...  False  False   True   True   True  False   True  False   True   \n",
       "11105    ...  False   True  False  False  False  False  False  False   True   \n",
       "10458    ...  False  False   True   True   True  False   True  False   True   \n",
       "11206    ...  False   True   True  False  False  False   True  False   True   \n",
       "11206    ...  False   True   True  False  False  False   True  False   True   \n",
       "\n",
       "          V_64  \n",
       "zipcode         \n",
       "10018    False  \n",
       "11238    False  \n",
       "10016    False  \n",
       "11216    False  \n",
       "10019    False  \n",
       "...        ...  \n",
       "10458    False  \n",
       "11105    False  \n",
       "10458    False  \n",
       "11206    False  \n",
       "11206    False  \n",
       "\n",
       "[50117 rows x 29 columns]"
      ]
     },
     "execution_count": 113,
     "metadata": {},
     "output_type": "execute_result"
    }
   ],
   "source": [
    "# data frame for clustering\n",
    "df_clust = pd.DataFrame(featuresets).set_index(zip_df['zipcode'])\n",
    "df_clust"
   ]
  },
  {
   "cell_type": "markdown",
   "metadata": {},
   "source": [
    "## Density-based clustering of PRIZM features with DBSCAN\n",
    "* This is a density-based clustering technique that automatically detects a clustering. The following parameters were used:\n",
    "    * eps (epsilon radius) = 0.5\n",
    "    * min_samples = 5"
   ]
  },
  {
   "cell_type": "code",
   "execution_count": 114,
   "metadata": {},
   "outputs": [],
   "source": [
    "from sklearn.cluster import DBSCAN\n",
    "# run the DBSCAN algorithm on data to construct a DBSCAN object\n",
    "db = DBSCAN(eps=0.5, min_samples=5).fit(df_clust)"
   ]
  },
  {
   "cell_type": "code",
   "execution_count": 115,
   "metadata": {},
   "outputs": [
    {
     "name": "stdout",
     "output_type": "stream",
     "text": [
      "Estimated number of clusters: 81\n"
     ]
    }
   ],
   "source": [
    "# cluster labels\n",
    "labels = db.labels_\n",
    "# number of clusters in labels, ignoring noise if present\n",
    "n_clusters_ = len(set(labels))\n",
    "print('Estimated number of clusters: {:d}'.format(n_clusters_))"
   ]
  },
  {
   "cell_type": "code",
   "execution_count": 116,
   "metadata": {},
   "outputs": [],
   "source": [
    "unique, counts = np.unique(labels, return_counts = True)\n",
    "clustering = dict(zip(unique, counts))\n",
    "clustering = [x for x in clustering.values()]"
   ]
  },
  {
   "cell_type": "code",
   "execution_count": 117,
   "metadata": {},
   "outputs": [
    {
     "name": "stdout",
     "output_type": "stream",
     "text": [
      "Top 10 Clusters:\n"
     ]
    },
    {
     "data": {
      "text/html": [
       "<div>\n",
       "<style scoped>\n",
       "    .dataframe tbody tr th:only-of-type {\n",
       "        vertical-align: middle;\n",
       "    }\n",
       "\n",
       "    .dataframe tbody tr th {\n",
       "        vertical-align: top;\n",
       "    }\n",
       "\n",
       "    .dataframe thead th {\n",
       "        text-align: right;\n",
       "    }\n",
       "</style>\n",
       "<table border=\"1\" class=\"dataframe\">\n",
       "  <thead>\n",
       "    <tr style=\"text-align: right;\">\n",
       "      <th></th>\n",
       "      <th>label</th>\n",
       "      <th>size</th>\n",
       "    </tr>\n",
       "  </thead>\n",
       "  <tbody>\n",
       "    <tr>\n",
       "      <th>5</th>\n",
       "      <td>4</td>\n",
       "      <td>5981</td>\n",
       "    </tr>\n",
       "    <tr>\n",
       "      <th>1</th>\n",
       "      <td>0</td>\n",
       "      <td>5622</td>\n",
       "    </tr>\n",
       "    <tr>\n",
       "      <th>2</th>\n",
       "      <td>1</td>\n",
       "      <td>5202</td>\n",
       "    </tr>\n",
       "    <tr>\n",
       "      <th>10</th>\n",
       "      <td>9</td>\n",
       "      <td>3807</td>\n",
       "    </tr>\n",
       "    <tr>\n",
       "      <th>7</th>\n",
       "      <td>6</td>\n",
       "      <td>3305</td>\n",
       "    </tr>\n",
       "    <tr>\n",
       "      <th>14</th>\n",
       "      <td>13</td>\n",
       "      <td>2677</td>\n",
       "    </tr>\n",
       "    <tr>\n",
       "      <th>3</th>\n",
       "      <td>2</td>\n",
       "      <td>2490</td>\n",
       "    </tr>\n",
       "    <tr>\n",
       "      <th>6</th>\n",
       "      <td>5</td>\n",
       "      <td>2206</td>\n",
       "    </tr>\n",
       "    <tr>\n",
       "      <th>23</th>\n",
       "      <td>22</td>\n",
       "      <td>1621</td>\n",
       "    </tr>\n",
       "    <tr>\n",
       "      <th>15</th>\n",
       "      <td>14</td>\n",
       "      <td>1538</td>\n",
       "    </tr>\n",
       "  </tbody>\n",
       "</table>\n",
       "</div>"
      ],
      "text/plain": [
       "    label  size\n",
       "5       4  5981\n",
       "1       0  5622\n",
       "2       1  5202\n",
       "10      9  3807\n",
       "7       6  3305\n",
       "14     13  2677\n",
       "3       2  2490\n",
       "6       5  2206\n",
       "23     22  1621\n",
       "15     14  1538"
      ]
     },
     "execution_count": 117,
     "metadata": {},
     "output_type": "execute_result"
    }
   ],
   "source": [
    "print(\"Top 10 Clusters:\")\n",
    "pd.DataFrame(dict(label = unique, size = counts)).sort_values(by = 'size', ascending = False).head(10)"
   ]
  },
  {
   "cell_type": "code",
   "execution_count": 118,
   "metadata": {},
   "outputs": [
    {
     "name": "stdout",
     "output_type": "stream",
     "text": [
      "DBSCAN was not able to assign 15 listings to a cluster. These listings are considered outliers.\n"
     ]
    }
   ],
   "source": [
    "print(\"DBSCAN was not able to assign {:d} listings to a cluster. These listings are considered outliers.\".format(clustering[0]))"
   ]
  },
  {
   "cell_type": "markdown",
   "metadata": {},
   "source": [
    "## Overlay Clusters to listings"
   ]
  },
  {
   "cell_type": "code",
   "execution_count": 119,
   "metadata": {},
   "outputs": [],
   "source": [
    "zip_df['prizm_cluster'] = labels\n",
    "zip_df2 = zip_df.drop(['zipcode','features'], axis = 1)"
   ]
  },
  {
   "cell_type": "code",
   "execution_count": 120,
   "metadata": {},
   "outputs": [],
   "source": [
    "# merge listings with clusters\n",
    "listings2 = listings.join(zip_df2)"
   ]
  },
  {
   "cell_type": "code",
   "execution_count": 121,
   "metadata": {},
   "outputs": [],
   "source": [
    "# function to convert cluster to string label\n",
    "re.findall(pattern = \"(\\d+).\", string = \"22.0\")[0]\n",
    "def getstr(x):\n",
    "    try:\n",
    "        out = re.findall(pattern = \"(\\d+).\", string = str(x))[0]\n",
    "    except:\n",
    "        out = 'UNK'\n",
    "    return out"
   ]
  },
  {
   "cell_type": "code",
   "execution_count": 122,
   "metadata": {},
   "outputs": [],
   "source": [
    "listings2['prizm_cluster'] = listings2['prizm_cluster'].apply(lambda x: getstr(x))"
   ]
  },
  {
   "cell_type": "markdown",
   "metadata": {},
   "source": [
    "### Dictionary of prizm features converted to words"
   ]
  },
  {
   "cell_type": "code",
   "execution_count": 123,
   "metadata": {},
   "outputs": [
    {
     "data": {
      "text/html": [
       "<div>\n",
       "<style scoped>\n",
       "    .dataframe tbody tr th:only-of-type {\n",
       "        vertical-align: middle;\n",
       "    }\n",
       "\n",
       "    .dataframe tbody tr th {\n",
       "        vertical-align: top;\n",
       "    }\n",
       "\n",
       "    .dataframe thead th {\n",
       "        text-align: right;\n",
       "    }\n",
       "</style>\n",
       "<table border=\"1\" class=\"dataframe\">\n",
       "  <thead>\n",
       "    <tr style=\"text-align: right;\">\n",
       "      <th></th>\n",
       "      <th>id</th>\n",
       "      <th>rollup</th>\n",
       "      <th>description</th>\n",
       "    </tr>\n",
       "  </thead>\n",
       "  <tbody>\n",
       "    <tr>\n",
       "      <th>0</th>\n",
       "      <td>1</td>\n",
       "      <td>Upper Crust</td>\n",
       "      <td>Wealthy Mature w/o Kids</td>\n",
       "    </tr>\n",
       "    <tr>\n",
       "      <th>1</th>\n",
       "      <td>2</td>\n",
       "      <td>Networked Neighbors</td>\n",
       "      <td>Wealthy Middle Age Mostly w/ Kids</td>\n",
       "    </tr>\n",
       "    <tr>\n",
       "      <th>2</th>\n",
       "      <td>3</td>\n",
       "      <td>Movers &amp; Shakers</td>\n",
       "      <td>Wealthy Older Mostly w/o Kids</td>\n",
       "    </tr>\n",
       "    <tr>\n",
       "      <th>3</th>\n",
       "      <td>4</td>\n",
       "      <td>Young Digerati</td>\n",
       "      <td>Wealthy Younger Mostly w/ Kids</td>\n",
       "    </tr>\n",
       "    <tr>\n",
       "      <th>4</th>\n",
       "      <td>6</td>\n",
       "      <td>Winner's Circle</td>\n",
       "      <td>Wealthy Middle Age Mostly w/ Kids</td>\n",
       "    </tr>\n",
       "  </tbody>\n",
       "</table>\n",
       "</div>"
      ],
      "text/plain": [
       "   id               rollup                        description\n",
       "0   1          Upper Crust            Wealthy Mature w/o Kids\n",
       "1   2  Networked Neighbors  Wealthy Middle Age Mostly w/ Kids\n",
       "2   3     Movers & Shakers      Wealthy Older Mostly w/o Kids\n",
       "3   4       Young Digerati     Wealthy Younger Mostly w/ Kids\n",
       "4   6      Winner's Circle  Wealthy Middle Age Mostly w/ Kids"
      ]
     },
     "execution_count": 123,
     "metadata": {},
     "output_type": "execute_result"
    }
   ],
   "source": [
    "prizm_definitions.head()"
   ]
  },
  {
   "cell_type": "code",
   "execution_count": 124,
   "metadata": {},
   "outputs": [],
   "source": [
    "# dictionary of features by zipcode\n",
    "d2 = prizm_definitions[['id','rollup']].set_index('id').T.to_dict('list')"
   ]
  },
  {
   "cell_type": "code",
   "execution_count": 125,
   "metadata": {},
   "outputs": [],
   "source": [
    "featurelist = zip_df['features'].tolist()\n",
    "featurelistnew = []\n",
    "for fvlist in featurelist:\n",
    "    fvlistnew = []\n",
    "    for i in fvlist:\n",
    "        fvlistnew.extend(d2[int(i)])\n",
    "    featurelistnew.append(str(fvlistnew))"
   ]
  },
  {
   "cell_type": "code",
   "execution_count": 126,
   "metadata": {},
   "outputs": [],
   "source": [
    "zip_df['prizm_features'] = featurelistnew"
   ]
  },
  {
   "cell_type": "code",
   "execution_count": 127,
   "metadata": {},
   "outputs": [
    {
     "data": {
      "text/html": [
       "<div>\n",
       "<style scoped>\n",
       "    .dataframe tbody tr th:only-of-type {\n",
       "        vertical-align: middle;\n",
       "    }\n",
       "\n",
       "    .dataframe tbody tr th {\n",
       "        vertical-align: top;\n",
       "    }\n",
       "\n",
       "    .dataframe thead th {\n",
       "        text-align: right;\n",
       "    }\n",
       "</style>\n",
       "<table border=\"1\" class=\"dataframe\">\n",
       "  <thead>\n",
       "    <tr style=\"text-align: right;\">\n",
       "      <th></th>\n",
       "      <th>zipcode</th>\n",
       "      <th>features</th>\n",
       "      <th>prizm_cluster</th>\n",
       "      <th>prizm_features</th>\n",
       "    </tr>\n",
       "    <tr>\n",
       "      <th>id</th>\n",
       "      <th></th>\n",
       "      <th></th>\n",
       "      <th></th>\n",
       "      <th></th>\n",
       "    </tr>\n",
       "  </thead>\n",
       "  <tbody>\n",
       "    <tr>\n",
       "      <th>2595</th>\n",
       "      <td>10018</td>\n",
       "      <td>[31, 17, 4, 40, 7]</td>\n",
       "      <td>0</td>\n",
       "      <td>['Connected Bohemians', 'Urban Elders', 'Young...</td>\n",
       "    </tr>\n",
       "    <tr>\n",
       "      <th>3831</th>\n",
       "      <td>11238</td>\n",
       "      <td>[31, 17, 40, 4, 21]</td>\n",
       "      <td>1</td>\n",
       "      <td>['Connected Bohemians', 'Urban Elders', 'Aspir...</td>\n",
       "    </tr>\n",
       "    <tr>\n",
       "      <th>5099</th>\n",
       "      <td>10016</td>\n",
       "      <td>[31, 17, 4, 40, 21]</td>\n",
       "      <td>1</td>\n",
       "      <td>['Connected Bohemians', 'Urban Elders', 'Young...</td>\n",
       "    </tr>\n",
       "    <tr>\n",
       "      <th>5121</th>\n",
       "      <td>11216</td>\n",
       "      <td>[40, 17, 31, 21, 63]</td>\n",
       "      <td>2</td>\n",
       "      <td>['Aspiring A-Listers', 'Urban Elders', 'Connec...</td>\n",
       "    </tr>\n",
       "    <tr>\n",
       "      <th>5178</th>\n",
       "      <td>10019</td>\n",
       "      <td>[17, 31, 4, 40, 7]</td>\n",
       "      <td>0</td>\n",
       "      <td>['Urban Elders', 'Connected Bohemians', 'Young...</td>\n",
       "    </tr>\n",
       "  </tbody>\n",
       "</table>\n",
       "</div>"
      ],
      "text/plain": [
       "      zipcode              features  prizm_cluster  \\\n",
       "id                                                   \n",
       "2595    10018    [31, 17, 4, 40, 7]              0   \n",
       "3831    11238   [31, 17, 40, 4, 21]              1   \n",
       "5099    10016   [31, 17, 4, 40, 21]              1   \n",
       "5121    11216  [40, 17, 31, 21, 63]              2   \n",
       "5178    10019    [17, 31, 4, 40, 7]              0   \n",
       "\n",
       "                                         prizm_features  \n",
       "id                                                       \n",
       "2595  ['Connected Bohemians', 'Urban Elders', 'Young...  \n",
       "3831  ['Connected Bohemians', 'Urban Elders', 'Aspir...  \n",
       "5099  ['Connected Bohemians', 'Urban Elders', 'Young...  \n",
       "5121  ['Aspiring A-Listers', 'Urban Elders', 'Connec...  \n",
       "5178  ['Urban Elders', 'Connected Bohemians', 'Young...  "
      ]
     },
     "execution_count": 127,
     "metadata": {},
     "output_type": "execute_result"
    }
   ],
   "source": [
    "zip_df.head()"
   ]
  },
  {
   "cell_type": "code",
   "execution_count": 128,
   "metadata": {},
   "outputs": [
    {
     "name": "stdout",
     "output_type": "stream",
     "text": [
      "New Prizm Attributes added to listings:\n",
      "\n"
     ]
    },
    {
     "data": {
      "text/html": [
       "<div>\n",
       "<style scoped>\n",
       "    .dataframe tbody tr th:only-of-type {\n",
       "        vertical-align: middle;\n",
       "    }\n",
       "\n",
       "    .dataframe tbody tr th {\n",
       "        vertical-align: top;\n",
       "    }\n",
       "\n",
       "    .dataframe thead th {\n",
       "        text-align: right;\n",
       "    }\n",
       "</style>\n",
       "<table border=\"1\" class=\"dataframe\">\n",
       "  <thead>\n",
       "    <tr style=\"text-align: right;\">\n",
       "      <th></th>\n",
       "      <th>prizm_cluster</th>\n",
       "      <th>prizm_features</th>\n",
       "    </tr>\n",
       "    <tr>\n",
       "      <th>id</th>\n",
       "      <th></th>\n",
       "      <th></th>\n",
       "    </tr>\n",
       "  </thead>\n",
       "  <tbody>\n",
       "    <tr>\n",
       "      <th>2595</th>\n",
       "      <td>0</td>\n",
       "      <td>['Connected Bohemians', 'Urban Elders', 'Young...</td>\n",
       "    </tr>\n",
       "    <tr>\n",
       "      <th>3831</th>\n",
       "      <td>1</td>\n",
       "      <td>['Connected Bohemians', 'Urban Elders', 'Aspir...</td>\n",
       "    </tr>\n",
       "    <tr>\n",
       "      <th>5099</th>\n",
       "      <td>1</td>\n",
       "      <td>['Connected Bohemians', 'Urban Elders', 'Young...</td>\n",
       "    </tr>\n",
       "    <tr>\n",
       "      <th>5121</th>\n",
       "      <td>2</td>\n",
       "      <td>['Aspiring A-Listers', 'Urban Elders', 'Connec...</td>\n",
       "    </tr>\n",
       "    <tr>\n",
       "      <th>5178</th>\n",
       "      <td>0</td>\n",
       "      <td>['Urban Elders', 'Connected Bohemians', 'Young...</td>\n",
       "    </tr>\n",
       "    <tr>\n",
       "      <th>...</th>\n",
       "      <td>...</td>\n",
       "      <td>...</td>\n",
       "    </tr>\n",
       "    <tr>\n",
       "      <th>40570168</th>\n",
       "      <td>22</td>\n",
       "      <td>['Low-Rise Living', 'Multi-Culti Mosaic', 'Mul...</td>\n",
       "    </tr>\n",
       "    <tr>\n",
       "      <th>40570350</th>\n",
       "      <td>2</td>\n",
       "      <td>['Urban Elders', 'Connected Bohemians', 'The C...</td>\n",
       "    </tr>\n",
       "    <tr>\n",
       "      <th>40570935</th>\n",
       "      <td>22</td>\n",
       "      <td>['Low-Rise Living', 'Multi-Culti Mosaic', 'Mul...</td>\n",
       "    </tr>\n",
       "    <tr>\n",
       "      <th>40572303</th>\n",
       "      <td>14</td>\n",
       "      <td>['Low-Rise Living', 'Connected Bohemians', 'Mu...</td>\n",
       "    </tr>\n",
       "    <tr>\n",
       "      <th>40584021</th>\n",
       "      <td>14</td>\n",
       "      <td>['Low-Rise Living', 'Connected Bohemians', 'Mu...</td>\n",
       "    </tr>\n",
       "  </tbody>\n",
       "</table>\n",
       "<p>50599 rows × 2 columns</p>\n",
       "</div>"
      ],
      "text/plain": [
       "         prizm_cluster                                     prizm_features\n",
       "id                                                                       \n",
       "2595                 0  ['Connected Bohemians', 'Urban Elders', 'Young...\n",
       "3831                 1  ['Connected Bohemians', 'Urban Elders', 'Aspir...\n",
       "5099                 1  ['Connected Bohemians', 'Urban Elders', 'Young...\n",
       "5121                 2  ['Aspiring A-Listers', 'Urban Elders', 'Connec...\n",
       "5178                 0  ['Urban Elders', 'Connected Bohemians', 'Young...\n",
       "...                ...                                                ...\n",
       "40570168            22  ['Low-Rise Living', 'Multi-Culti Mosaic', 'Mul...\n",
       "40570350             2  ['Urban Elders', 'Connected Bohemians', 'The C...\n",
       "40570935            22  ['Low-Rise Living', 'Multi-Culti Mosaic', 'Mul...\n",
       "40572303            14  ['Low-Rise Living', 'Connected Bohemians', 'Mu...\n",
       "40584021            14  ['Low-Rise Living', 'Connected Bohemians', 'Mu...\n",
       "\n",
       "[50599 rows x 2 columns]"
      ]
     },
     "execution_count": 128,
     "metadata": {},
     "output_type": "execute_result"
    }
   ],
   "source": [
    "# merge listings with prizm features\n",
    "listings3 = listings2.join(zip_df['prizm_features'])\n",
    "print(\"New Prizm Attributes added to listings:\\n\")\n",
    "listings3[['prizm_cluster','prizm_features']]"
   ]
  },
  {
   "cell_type": "markdown",
   "metadata": {},
   "source": [
    "## Extract Census Data Using Listing Zip Codes\n",
    "* https://pypi.org/project/uszipcode/\n",
    "* 'population','population_density','housing_units','occupied_housing_units','median_home_value','median_household_income'"
   ]
  },
  {
   "cell_type": "code",
   "execution_count": 129,
   "metadata": {},
   "outputs": [],
   "source": [
    "# Get these Census attributes\n",
    "attr = ['population','population_density','housing_units','occupied_housing_units','median_home_value','median_household_income']"
   ]
  },
  {
   "cell_type": "code",
   "execution_count": 130,
   "metadata": {},
   "outputs": [],
   "source": [
    "from uszipcode import SearchEngine\n",
    "search = SearchEngine(simple_zipcode=True)"
   ]
  },
  {
   "cell_type": "code",
   "execution_count": 131,
   "metadata": {},
   "outputs": [],
   "source": [
    "# function to get census data for zipcode\n",
    "# param: zip string or integer zipcode\n",
    "# param: what string of key value e.g. 'population','population_density','housing_units','occupied_housing_units','median_home_value','median_household_income'\n",
    "def getcensus(zip, what):\n",
    "    try:\n",
    "        out = search.by_zipcode(zip).to_dict()[what]\n",
    "        return out\n",
    "    except:\n",
    "        pass"
   ]
  },
  {
   "cell_type": "code",
   "execution_count": 132,
   "metadata": {},
   "outputs": [],
   "source": [
    "zip_df3 = pd.DataFrame({\n",
    "    'zipcode' : zip_df['zipcode'].drop_duplicates().values\n",
    "})"
   ]
  },
  {
   "cell_type": "code",
   "execution_count": 133,
   "metadata": {},
   "outputs": [],
   "source": [
    "for a in attr:\n",
    "    zip_df3[a] = zip_df3['zipcode'].apply(lambda x: getcensus(x, a))"
   ]
  },
  {
   "cell_type": "code",
   "execution_count": 134,
   "metadata": {},
   "outputs": [
    {
     "data": {
      "text/html": [
       "<div>\n",
       "<style scoped>\n",
       "    .dataframe tbody tr th:only-of-type {\n",
       "        vertical-align: middle;\n",
       "    }\n",
       "\n",
       "    .dataframe tbody tr th {\n",
       "        vertical-align: top;\n",
       "    }\n",
       "\n",
       "    .dataframe thead th {\n",
       "        text-align: right;\n",
       "    }\n",
       "</style>\n",
       "<table border=\"1\" class=\"dataframe\">\n",
       "  <thead>\n",
       "    <tr style=\"text-align: right;\">\n",
       "      <th></th>\n",
       "      <th>zipcode</th>\n",
       "      <th>population</th>\n",
       "      <th>population_density</th>\n",
       "      <th>housing_units</th>\n",
       "      <th>occupied_housing_units</th>\n",
       "      <th>median_home_value</th>\n",
       "      <th>median_household_income</th>\n",
       "    </tr>\n",
       "  </thead>\n",
       "  <tbody>\n",
       "    <tr>\n",
       "      <th>0</th>\n",
       "      <td>10018</td>\n",
       "      <td>5229.0</td>\n",
       "      <td>16251.0</td>\n",
       "      <td>4425.0</td>\n",
       "      <td>3065.0</td>\n",
       "      <td>1000001.0</td>\n",
       "      <td>104635.0</td>\n",
       "    </tr>\n",
       "    <tr>\n",
       "      <th>1</th>\n",
       "      <td>11238</td>\n",
       "      <td>49262.0</td>\n",
       "      <td>44555.0</td>\n",
       "      <td>24525.0</td>\n",
       "      <td>22648.0</td>\n",
       "      <td>656800.0</td>\n",
       "      <td>65315.0</td>\n",
       "    </tr>\n",
       "    <tr>\n",
       "      <th>2</th>\n",
       "      <td>10016</td>\n",
       "      <td>54183.0</td>\n",
       "      <td>101814.0</td>\n",
       "      <td>35617.0</td>\n",
       "      <td>32173.0</td>\n",
       "      <td>759600.0</td>\n",
       "      <td>105324.0</td>\n",
       "    </tr>\n",
       "    <tr>\n",
       "      <th>3</th>\n",
       "      <td>11216</td>\n",
       "      <td>54316.0</td>\n",
       "      <td>58065.0</td>\n",
       "      <td>25964.0</td>\n",
       "      <td>23193.0</td>\n",
       "      <td>623300.0</td>\n",
       "      <td>43996.0</td>\n",
       "    </tr>\n",
       "    <tr>\n",
       "      <th>4</th>\n",
       "      <td>10019</td>\n",
       "      <td>42870.0</td>\n",
       "      <td>63042.0</td>\n",
       "      <td>31404.0</td>\n",
       "      <td>25905.0</td>\n",
       "      <td>808600.0</td>\n",
       "      <td>84424.0</td>\n",
       "    </tr>\n",
       "  </tbody>\n",
       "</table>\n",
       "</div>"
      ],
      "text/plain": [
       "   zipcode  population  population_density  housing_units  \\\n",
       "0    10018      5229.0             16251.0         4425.0   \n",
       "1    11238     49262.0             44555.0        24525.0   \n",
       "2    10016     54183.0            101814.0        35617.0   \n",
       "3    11216     54316.0             58065.0        25964.0   \n",
       "4    10019     42870.0             63042.0        31404.0   \n",
       "\n",
       "   occupied_housing_units  median_home_value  median_household_income  \n",
       "0                  3065.0          1000001.0                 104635.0  \n",
       "1                 22648.0           656800.0                  65315.0  \n",
       "2                 32173.0           759600.0                 105324.0  \n",
       "3                 23193.0           623300.0                  43996.0  \n",
       "4                 25905.0           808600.0                  84424.0  "
      ]
     },
     "execution_count": 134,
     "metadata": {},
     "output_type": "execute_result"
    }
   ],
   "source": [
    "zip_df3.head()"
   ]
  },
  {
   "cell_type": "code",
   "execution_count": 135,
   "metadata": {},
   "outputs": [],
   "source": [
    "zip_df3['zipcode'] = zip_df3['zipcode'].astype('object')\n",
    "census_dict = zip_df3.set_index('zipcode').T.to_dict('dict')"
   ]
  },
  {
   "cell_type": "code",
   "execution_count": 136,
   "metadata": {},
   "outputs": [],
   "source": [
    "# function to get census data for zipcode\n",
    "# param: zip string or integer zipcode\n",
    "# param: what string of key value e.g. 'population','population_density','housing_units','occupied_housing_units','median_home_value','median_household_income'\n",
    "def getcensus2(z, what):\n",
    "    try:\n",
    "        z = int(z)\n",
    "        out = census_dict[z][what]\n",
    "        return out\n",
    "    except:\n",
    "        pass"
   ]
  },
  {
   "cell_type": "code",
   "execution_count": 137,
   "metadata": {},
   "outputs": [
    {
     "name": "stdout",
     "output_type": "stream",
     "text": [
      "New Census Attributes added to listings:\n",
      "\n"
     ]
    },
    {
     "data": {
      "text/html": [
       "<div>\n",
       "<style scoped>\n",
       "    .dataframe tbody tr th:only-of-type {\n",
       "        vertical-align: middle;\n",
       "    }\n",
       "\n",
       "    .dataframe tbody tr th {\n",
       "        vertical-align: top;\n",
       "    }\n",
       "\n",
       "    .dataframe thead th {\n",
       "        text-align: right;\n",
       "    }\n",
       "</style>\n",
       "<table border=\"1\" class=\"dataframe\">\n",
       "  <thead>\n",
       "    <tr style=\"text-align: right;\">\n",
       "      <th></th>\n",
       "      <th>population</th>\n",
       "      <th>population_density</th>\n",
       "      <th>housing_units</th>\n",
       "      <th>occupied_housing_units</th>\n",
       "      <th>median_home_value</th>\n",
       "      <th>median_household_income</th>\n",
       "    </tr>\n",
       "    <tr>\n",
       "      <th>id</th>\n",
       "      <th></th>\n",
       "      <th></th>\n",
       "      <th></th>\n",
       "      <th></th>\n",
       "      <th></th>\n",
       "      <th></th>\n",
       "    </tr>\n",
       "  </thead>\n",
       "  <tbody>\n",
       "    <tr>\n",
       "      <th>2595</th>\n",
       "      <td>5229.0</td>\n",
       "      <td>16251.0</td>\n",
       "      <td>4425.0</td>\n",
       "      <td>3065.0</td>\n",
       "      <td>1000001.0</td>\n",
       "      <td>104635.0</td>\n",
       "    </tr>\n",
       "    <tr>\n",
       "      <th>3831</th>\n",
       "      <td>49262.0</td>\n",
       "      <td>44555.0</td>\n",
       "      <td>24525.0</td>\n",
       "      <td>22648.0</td>\n",
       "      <td>656800.0</td>\n",
       "      <td>65315.0</td>\n",
       "    </tr>\n",
       "    <tr>\n",
       "      <th>5099</th>\n",
       "      <td>54183.0</td>\n",
       "      <td>101814.0</td>\n",
       "      <td>35617.0</td>\n",
       "      <td>32173.0</td>\n",
       "      <td>759600.0</td>\n",
       "      <td>105324.0</td>\n",
       "    </tr>\n",
       "    <tr>\n",
       "      <th>5121</th>\n",
       "      <td>54316.0</td>\n",
       "      <td>58065.0</td>\n",
       "      <td>25964.0</td>\n",
       "      <td>23193.0</td>\n",
       "      <td>623300.0</td>\n",
       "      <td>43996.0</td>\n",
       "    </tr>\n",
       "    <tr>\n",
       "      <th>5178</th>\n",
       "      <td>42870.0</td>\n",
       "      <td>63042.0</td>\n",
       "      <td>31404.0</td>\n",
       "      <td>25905.0</td>\n",
       "      <td>808600.0</td>\n",
       "      <td>84424.0</td>\n",
       "    </tr>\n",
       "    <tr>\n",
       "      <th>...</th>\n",
       "      <td>...</td>\n",
       "      <td>...</td>\n",
       "      <td>...</td>\n",
       "      <td>...</td>\n",
       "      <td>...</td>\n",
       "      <td>...</td>\n",
       "    </tr>\n",
       "    <tr>\n",
       "      <th>40570168</th>\n",
       "      <td>79492.0</td>\n",
       "      <td>78784.0</td>\n",
       "      <td>27806.0</td>\n",
       "      <td>26201.0</td>\n",
       "      <td>330300.0</td>\n",
       "      <td>24618.0</td>\n",
       "    </tr>\n",
       "    <tr>\n",
       "      <th>40570350</th>\n",
       "      <td>36688.0</td>\n",
       "      <td>22481.0</td>\n",
       "      <td>17416.0</td>\n",
       "      <td>16120.0</td>\n",
       "      <td>658700.0</td>\n",
       "      <td>57525.0</td>\n",
       "    </tr>\n",
       "    <tr>\n",
       "      <th>40570935</th>\n",
       "      <td>79492.0</td>\n",
       "      <td>78784.0</td>\n",
       "      <td>27806.0</td>\n",
       "      <td>26201.0</td>\n",
       "      <td>330300.0</td>\n",
       "      <td>24618.0</td>\n",
       "    </tr>\n",
       "    <tr>\n",
       "      <th>40572303</th>\n",
       "      <td>81677.0</td>\n",
       "      <td>56939.0</td>\n",
       "      <td>29941.0</td>\n",
       "      <td>28025.0</td>\n",
       "      <td>533400.0</td>\n",
       "      <td>28559.0</td>\n",
       "    </tr>\n",
       "    <tr>\n",
       "      <th>40584021</th>\n",
       "      <td>81677.0</td>\n",
       "      <td>56939.0</td>\n",
       "      <td>29941.0</td>\n",
       "      <td>28025.0</td>\n",
       "      <td>533400.0</td>\n",
       "      <td>28559.0</td>\n",
       "    </tr>\n",
       "  </tbody>\n",
       "</table>\n",
       "<p>50599 rows × 6 columns</p>\n",
       "</div>"
      ],
      "text/plain": [
       "          population  population_density  housing_units  \\\n",
       "id                                                        \n",
       "2595          5229.0             16251.0         4425.0   \n",
       "3831         49262.0             44555.0        24525.0   \n",
       "5099         54183.0            101814.0        35617.0   \n",
       "5121         54316.0             58065.0        25964.0   \n",
       "5178         42870.0             63042.0        31404.0   \n",
       "...              ...                 ...            ...   \n",
       "40570168     79492.0             78784.0        27806.0   \n",
       "40570350     36688.0             22481.0        17416.0   \n",
       "40570935     79492.0             78784.0        27806.0   \n",
       "40572303     81677.0             56939.0        29941.0   \n",
       "40584021     81677.0             56939.0        29941.0   \n",
       "\n",
       "          occupied_housing_units  median_home_value  median_household_income  \n",
       "id                                                                            \n",
       "2595                      3065.0          1000001.0                 104635.0  \n",
       "3831                     22648.0           656800.0                  65315.0  \n",
       "5099                     32173.0           759600.0                 105324.0  \n",
       "5121                     23193.0           623300.0                  43996.0  \n",
       "5178                     25905.0           808600.0                  84424.0  \n",
       "...                          ...                ...                      ...  \n",
       "40570168                 26201.0           330300.0                  24618.0  \n",
       "40570350                 16120.0           658700.0                  57525.0  \n",
       "40570935                 26201.0           330300.0                  24618.0  \n",
       "40572303                 28025.0           533400.0                  28559.0  \n",
       "40584021                 28025.0           533400.0                  28559.0  \n",
       "\n",
       "[50599 rows x 6 columns]"
      ]
     },
     "execution_count": 137,
     "metadata": {},
     "output_type": "execute_result"
    }
   ],
   "source": [
    "listings4 = listings3\n",
    "for a in attr:\n",
    "    listings4[a] = [getcensus2(z, a) for z in listings4['zipcode'].values]\n",
    "print(\"New Census Attributes added to listings:\\n\")\n",
    "listings4[attr] "
   ]
  },
  {
   "cell_type": "code",
   "execution_count": 138,
   "metadata": {},
   "outputs": [],
   "source": [
    "# listings cleaned includes new Census attributes and PRIZM attributes\n",
    "# this dataset has also undergone some cleaning and feature selection.\n",
    "listings4.to_csv('data/listings_cleaned.csv')"
   ]
  },
  {
   "cell_type": "markdown",
   "metadata": {},
   "source": [
    "### Listings cleaned includes new Census attributes and PRIZM attributes this dataset has also undergone some cleaning and feature selection."
   ]
  }
 ],
 "metadata": {
  "file_extension": ".py",
  "kernelspec": {
   "display_name": "Python 3.6.5 64-bit ('base': conda)",
   "language": "python",
   "name": "python36564bitbasecondacd90c988128e4e428ceb9fe9a1123e59"
  },
  "language_info": {
   "codemirror_mode": {
    "name": "ipython",
    "version": 3
   },
   "file_extension": ".py",
   "mimetype": "text/x-python",
   "name": "python",
   "nbconvert_exporter": "python",
   "pygments_lexer": "ipython3",
   "version": "3.6.5"
  },
  "mimetype": "text/x-python",
  "name": "python",
  "npconvert_exporter": "python",
  "pygments_lexer": "ipython3",
  "version": 3
 },
 "nbformat": 4,
 "nbformat_minor": 2
}
